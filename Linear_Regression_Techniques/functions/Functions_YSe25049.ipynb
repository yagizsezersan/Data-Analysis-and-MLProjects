{
 "cells": [
  {
   "cell_type": "markdown",
   "id": "df63449f",
   "metadata": {},
   "source": [
    "### Function for Correlation Based Selection (threshold)"
   ]
  },
  {
   "cell_type": "code",
   "execution_count": 3,
   "id": "0a27f26c",
   "metadata": {},
   "outputs": [],
   "source": [
    "import pandas as pd\n",
    "\n",
    "def select_manual(data):\n",
    "    \n",
    "    correlation = data.corr().abs()\n",
    "\n",
    "    # Sort the corr() by log_inst_review\n",
    "    correlation_target = correlation['log_inst_review'].abs().sort_values(ascending=False)\n",
    "\n",
    "    # Select features with threshold value\n",
    "    selected_features = correlation_target[correlation_target > 0.2].index\n",
    "\n",
    "    # Drop log_inst_review\n",
    "    selected_features = selected_features.drop('log_inst_review')\n",
    "    \n",
    "    return selected_features"
   ]
  },
  {
   "cell_type": "markdown",
   "id": "26e4089f",
   "metadata": {},
   "source": [
    "### Variance Threshold Selection"
   ]
  },
  {
   "cell_type": "code",
   "execution_count": 4,
   "id": "f138c5e6",
   "metadata": {},
   "outputs": [],
   "source": [
    "from sklearn.feature_selection import VarianceThreshold\n",
    "\n",
    "def select_variance(data,threshold):\n",
    "    # Import library for VarianceThreshold and since we already assign our target, only drop step is applied\n",
    "    x = data.drop(\"log_inst_review\", axis=1)\n",
    "    \n",
    "    # Apply the variance threshold method and get selected feature names\n",
    "    vt = VarianceThreshold(threshold=threshold)\n",
    "    vt.fit(x)\n",
    "    pd.DataFrame({'Variance': vt.variances_, 'select_status': vt.get_support()}, index=x.columns)\n",
    "  \n",
    "    # Save it to selected features\n",
    "    selected_features = x.iloc[:,vt.get_support()]\n",
    "    \n",
    "    return selected_features"
   ]
  },
  {
   "cell_type": "markdown",
   "id": "49fecdc1",
   "metadata": {},
   "source": [
    "### Select K-Best method"
   ]
  },
  {
   "cell_type": "code",
   "execution_count": 5,
   "id": "4b5614ba",
   "metadata": {},
   "outputs": [],
   "source": [
    "from sklearn.feature_selection import SelectKBest\n",
    "from sklearn.feature_selection import f_regression \n",
    "from sklearn.model_selection import train_test_split\n",
    "\n",
    "def select_best(data, num):\n",
    "    # Since we already assign our target, only drop step is applied\n",
    "    features = data.drop(\"log_inst_review\", axis=1)\n",
    "    \n",
    "    # Select k=num\n",
    "    kbest = SelectKBest(score_func=f_regression, k=num)\n",
    "    X_train, X_test, y_train, y_test = train_test_split(features, target, test_size=0.2, random_state=42)\n",
    "\n",
    "    kbest.fit_transform(X_train, y_train)\n",
    "    # Save it to selected features\n",
    "    selected_features = features.iloc[:,kbest.get_support()]\n",
    "    \n",
    "    return selected_features"
   ]
  },
  {
   "cell_type": "markdown",
   "id": "fe6b29a1",
   "metadata": {},
   "source": [
    "### Create the make_poly function"
   ]
  },
  {
   "cell_type": "code",
   "execution_count": 6,
   "id": "5991f2f0",
   "metadata": {},
   "outputs": [],
   "source": [
    "from sklearn.preprocessing import PolynomialFeatures\n",
    "\n",
    "def make_poly(data):\n",
    "    # polinomial degree 2\n",
    "    pf = PolynomialFeatures(degree=2, include_bias=False, interaction_only=True)\n",
    "    fit_pf = pf.fit(data) \n",
    "    poly = pd.DataFrame(pf.transform(data), columns=fit_pf.get_feature_names_out(data.columns))\n",
    "    \n",
    "    return poly"
   ]
  },
  {
   "cell_type": "code",
   "execution_count": null,
   "id": "07f792fb",
   "metadata": {},
   "outputs": [],
   "source": []
  }
 ],
 "metadata": {
  "kernelspec": {
   "display_name": "Python 3 (ipykernel)",
   "language": "python",
   "name": "python3"
  },
  "language_info": {
   "codemirror_mode": {
    "name": "ipython",
    "version": 3
   },
   "file_extension": ".py",
   "mimetype": "text/x-python",
   "name": "python",
   "nbconvert_exporter": "python",
   "pygments_lexer": "ipython3",
   "version": "3.10.11"
  }
 },
 "nbformat": 4,
 "nbformat_minor": 5
}
