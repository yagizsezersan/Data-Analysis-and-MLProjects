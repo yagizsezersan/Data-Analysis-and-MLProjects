{
 "cells": [
  {
   "cell_type": "markdown",
   "id": "4eaa1782",
   "metadata": {},
   "source": [
    "# Part 1(classification)\n",
    "#### Name: YAGIZ SEZERSAN\n"
   ]
  },
  {
   "cell_type": "markdown",
   "id": "ff99cafe",
   "metadata": {},
   "source": [
    "#### a. Load the python library"
   ]
  },
  {
   "cell_type": "code",
   "execution_count": 54,
   "id": "836ca875",
   "metadata": {},
   "outputs": [],
   "source": [
    "# Necessary libraries for Lab4\n",
    "import numpy as np\n",
    "import pandas as pd\n",
    "import matplotlib.pyplot as plt\n",
    "import seaborn as sns\n",
    "\n",
    "from sklearn.feature_selection import VarianceThreshold\n",
    "from sklearn.feature_selection import SelectKBest\n",
    "from sklearn.preprocessing import StandardScaler, MinMaxScaler, RobustScaler\n",
    "from sklearn.model_selection import train_test_split\n",
    "\n",
    "from sklearn.metrics import mean_squared_error,r2_score\n",
    "from sklearn.metrics import confusion_matrix\n",
    "from sklearn.metrics import classification_report\n",
    "from sklearn.feature_selection import SelectFromModel\n",
    "from sklearn.svm import LinearSVC, SVC\n",
    "from sklearn.naive_bayes import GaussianNB\n",
    "from sklearn.metrics import accuracy_score, log_loss\n",
    "from sklearn.pipeline import Pipeline\n",
    "\n",
    "from sklearn.linear_model import LogisticRegression\n",
    "from sklearn.neighbors import KNeighborsClassifier\n",
    "from sklearn.gaussian_process.kernels import RBF\n",
    "from sklearn.tree import DecisionTreeClassifier\n",
    "from sklearn.ensemble import RandomForestClassifier, BaggingClassifier, AdaBoostClassifier, VotingClassifier\n",
    "from xgboost import XGBClassifier\n",
    "from catboost import CatBoostClassifier"
   ]
  },
  {
   "cell_type": "markdown",
   "id": "ab87199e",
   "metadata": {},
   "source": [
    "#### b. Read the data"
   ]
  },
  {
   "cell_type": "code",
   "execution_count": 55,
   "id": "30e1cd78",
   "metadata": {},
   "outputs": [
    {
     "data": {
      "text/html": [
       "<div>\n",
       "<style scoped>\n",
       "    .dataframe tbody tr th:only-of-type {\n",
       "        vertical-align: middle;\n",
       "    }\n",
       "\n",
       "    .dataframe tbody tr th {\n",
       "        vertical-align: top;\n",
       "    }\n",
       "\n",
       "    .dataframe thead th {\n",
       "        text-align: right;\n",
       "    }\n",
       "</style>\n",
       "<table border=\"1\" class=\"dataframe\">\n",
       "  <thead>\n",
       "    <tr style=\"text-align: right;\">\n",
       "      <th></th>\n",
       "      <th>inter_api_access_duration(sec)</th>\n",
       "      <th>api_access_uniqueness</th>\n",
       "      <th>sequence_length(count)</th>\n",
       "      <th>vsession_duration(min)</th>\n",
       "      <th>ip_type</th>\n",
       "      <th>num_sessions</th>\n",
       "      <th>num_users</th>\n",
       "      <th>num_unique_apis</th>\n",
       "      <th>source</th>\n",
       "      <th>classification</th>\n",
       "    </tr>\n",
       "  </thead>\n",
       "  <tbody>\n",
       "    <tr>\n",
       "      <th>0</th>\n",
       "      <td>7.010387</td>\n",
       "      <td>0.419355</td>\n",
       "      <td>31.0</td>\n",
       "      <td>13040</td>\n",
       "      <td>default</td>\n",
       "      <td>1</td>\n",
       "      <td>1</td>\n",
       "      <td>13</td>\n",
       "      <td>E</td>\n",
       "      <td>1</td>\n",
       "    </tr>\n",
       "    <tr>\n",
       "      <th>1</th>\n",
       "      <td>51.419393</td>\n",
       "      <td>0.252336</td>\n",
       "      <td>107.0</td>\n",
       "      <td>330113</td>\n",
       "      <td>default</td>\n",
       "      <td>1</td>\n",
       "      <td>1</td>\n",
       "      <td>27</td>\n",
       "      <td>E</td>\n",
       "      <td>1</td>\n",
       "    </tr>\n",
       "    <tr>\n",
       "      <th>2</th>\n",
       "      <td>25.860775</td>\n",
       "      <td>0.275000</td>\n",
       "      <td>40.0</td>\n",
       "      <td>62066</td>\n",
       "      <td>default</td>\n",
       "      <td>1</td>\n",
       "      <td>1</td>\n",
       "      <td>11</td>\n",
       "      <td>E</td>\n",
       "      <td>1</td>\n",
       "    </tr>\n",
       "    <tr>\n",
       "      <th>3</th>\n",
       "      <td>0.205909</td>\n",
       "      <td>0.818182</td>\n",
       "      <td>11.0</td>\n",
       "      <td>136</td>\n",
       "      <td>default</td>\n",
       "      <td>1</td>\n",
       "      <td>1</td>\n",
       "      <td>9</td>\n",
       "      <td>E</td>\n",
       "      <td>1</td>\n",
       "    </tr>\n",
       "    <tr>\n",
       "      <th>4</th>\n",
       "      <td>0.122125</td>\n",
       "      <td>0.812500</td>\n",
       "      <td>16.0</td>\n",
       "      <td>118</td>\n",
       "      <td>default</td>\n",
       "      <td>1</td>\n",
       "      <td>1</td>\n",
       "      <td>13</td>\n",
       "      <td>E</td>\n",
       "      <td>1</td>\n",
       "    </tr>\n",
       "  </tbody>\n",
       "</table>\n",
       "</div>"
      ],
      "text/plain": [
       "   inter_api_access_duration(sec)  api_access_uniqueness  \\\n",
       "0                        7.010387               0.419355   \n",
       "1                       51.419393               0.252336   \n",
       "2                       25.860775               0.275000   \n",
       "3                        0.205909               0.818182   \n",
       "4                        0.122125               0.812500   \n",
       "\n",
       "   sequence_length(count)  vsession_duration(min)  ip_type  num_sessions  \\\n",
       "0                    31.0                   13040  default             1   \n",
       "1                   107.0                  330113  default             1   \n",
       "2                    40.0                   62066  default             1   \n",
       "3                    11.0                     136  default             1   \n",
       "4                    16.0                     118  default             1   \n",
       "\n",
       "   num_users  num_unique_apis source  classification  \n",
       "0          1               13      E               1  \n",
       "1          1               27      E               1  \n",
       "2          1               11      E               1  \n",
       "3          1                9      E               1  \n",
       "4          1               13      E               1  "
      ]
     },
     "execution_count": 55,
     "metadata": {},
     "output_type": "execute_result"
    }
   ],
   "source": [
    "# Import csv file\n",
    "df = pd.read_csv(\"user_behavior.csv\")\n",
    "\n",
    "# Display the first few rows of dataset\n",
    "df.head()"
   ]
  },
  {
   "cell_type": "code",
   "execution_count": 56,
   "id": "af203cf8",
   "metadata": {
    "scrolled": true
   },
   "outputs": [
    {
     "name": "stdout",
     "output_type": "stream",
     "text": [
      "<class 'pandas.core.frame.DataFrame'>\n",
      "RangeIndex: 36117 entries, 0 to 36116\n",
      "Data columns (total 10 columns):\n",
      " #   Column                          Non-Null Count  Dtype  \n",
      "---  ------                          --------------  -----  \n",
      " 0   inter_api_access_duration(sec)  36117 non-null  float64\n",
      " 1   api_access_uniqueness           36117 non-null  float64\n",
      " 2   sequence_length(count)          36117 non-null  float64\n",
      " 3   vsession_duration(min)          36117 non-null  int64  \n",
      " 4   ip_type                         36117 non-null  object \n",
      " 5   num_sessions                    36117 non-null  int64  \n",
      " 6   num_users                       36117 non-null  int64  \n",
      " 7   num_unique_apis                 36117 non-null  int64  \n",
      " 8   source                          36117 non-null  object \n",
      " 9   classification                  36117 non-null  int64  \n",
      "dtypes: float64(3), int64(5), object(2)\n",
      "memory usage: 2.8+ MB\n"
     ]
    }
   ],
   "source": [
    "# Display the column information\n",
    "df.info()"
   ]
  },
  {
   "cell_type": "markdown",
   "id": "2ec5526b",
   "metadata": {},
   "source": [
    "#### c. Drop the unneeded data"
   ]
  },
  {
   "cell_type": "code",
   "execution_count": 57,
   "id": "b69b97e6",
   "metadata": {},
   "outputs": [
    {
     "data": {
      "text/plain": [
       "0"
      ]
     },
     "execution_count": 57,
     "metadata": {},
     "output_type": "execute_result"
    }
   ],
   "source": [
    "# First we need to see how many null values we have\n",
    "df.isnull().sum().sum()"
   ]
  },
  {
   "cell_type": "code",
   "execution_count": 58,
   "id": "b227e94c",
   "metadata": {},
   "outputs": [
    {
     "name": "stdout",
     "output_type": "stream",
     "text": [
      "default       34441\n",
      "private_ip     1384\n",
      "datacenter      291\n",
      "google_bot        1\n",
      "Name: ip_type, dtype: int64\n",
      "\n",
      "E    19283\n",
      "F    16834\n",
      "Name: source, dtype: int64\n",
      "\n",
      "1    24734\n",
      "0    10052\n",
      "2     1309\n",
      "3       22\n",
      "Name: classification, dtype: int64\n"
     ]
    }
   ],
   "source": [
    "# Check unique values for object and target columns\n",
    "print(df.ip_type.value_counts())\n",
    "print()\n",
    "\n",
    "print(df.source.value_counts())\n",
    "print()\n",
    "\n",
    "print(df.classification.value_counts())"
   ]
  },
  {
   "cell_type": "code",
   "execution_count": 59,
   "id": "42ec83d6",
   "metadata": {},
   "outputs": [],
   "source": [
    "# google_bot has only one value so drop it\n",
    "df = df[df.ip_type != \"google_bot\"]"
   ]
  },
  {
   "cell_type": "code",
   "execution_count": 60,
   "id": "1c532d7b",
   "metadata": {},
   "outputs": [
    {
     "name": "stdout",
     "output_type": "stream",
     "text": [
      "default       34441\n",
      "private_ip     1384\n",
      "datacenter      291\n",
      "Name: ip_type, dtype: int64\n"
     ]
    }
   ],
   "source": [
    "# Now only 3 unique values\n",
    "print(df.ip_type.value_counts())"
   ]
  },
  {
   "cell_type": "markdown",
   "id": "0cc4ecbe",
   "metadata": {},
   "source": [
    "#### d. Create dummy values for the dataframe"
   ]
  },
  {
   "cell_type": "code",
   "execution_count": 61,
   "id": "1984af64",
   "metadata": {},
   "outputs": [],
   "source": [
    "# Create dummy variables\n",
    "df1 = pd.get_dummies(df, drop_first=True)"
   ]
  },
  {
   "cell_type": "code",
   "execution_count": 62,
   "id": "0cb36e59",
   "metadata": {
    "scrolled": true
   },
   "outputs": [
    {
     "name": "stdout",
     "output_type": "stream",
     "text": [
      "<class 'pandas.core.frame.DataFrame'>\n",
      "Int64Index: 36116 entries, 0 to 36116\n",
      "Data columns (total 11 columns):\n",
      " #   Column                          Non-Null Count  Dtype  \n",
      "---  ------                          --------------  -----  \n",
      " 0   inter_api_access_duration(sec)  36116 non-null  float64\n",
      " 1   api_access_uniqueness           36116 non-null  float64\n",
      " 2   sequence_length(count)          36116 non-null  float64\n",
      " 3   vsession_duration(min)          36116 non-null  int64  \n",
      " 4   num_sessions                    36116 non-null  int64  \n",
      " 5   num_users                       36116 non-null  int64  \n",
      " 6   num_unique_apis                 36116 non-null  int64  \n",
      " 7   classification                  36116 non-null  int64  \n",
      " 8   ip_type_default                 36116 non-null  uint8  \n",
      " 9   ip_type_private_ip              36116 non-null  uint8  \n",
      " 10  source_F                        36116 non-null  uint8  \n",
      "dtypes: float64(3), int64(5), uint8(3)\n",
      "memory usage: 2.6 MB\n"
     ]
    }
   ],
   "source": [
    "# Now all columns are numerical\n",
    "df1.info()"
   ]
  },
  {
   "cell_type": "code",
   "execution_count": 63,
   "id": "e6a88fe4",
   "metadata": {},
   "outputs": [],
   "source": [
    "# Save cleaned dataset\n",
    "df1.to_csv(\"user_behavior_cleaned.csv\", index=False)"
   ]
  },
  {
   "cell_type": "markdown",
   "id": "a6a276f7",
   "metadata": {},
   "source": [
    "####  e. Prepare the features and target variable"
   ]
  },
  {
   "cell_type": "code",
   "execution_count": 64,
   "id": "d7352d21",
   "metadata": {},
   "outputs": [],
   "source": [
    "# Assign features and target\n",
    "X = df1.drop([\"classification\"],axis = 1)\n",
    "y = df1[\"classification\"]\n",
    "\n",
    "# Split data as test an training\n",
    "X_train, X_test, y_train, y_test = train_test_split(X, y, test_size=0.25, random_state=42)"
   ]
  },
  {
   "cell_type": "markdown",
   "id": "3bf24775",
   "metadata": {},
   "source": [
    "####  f. Create a pipeline"
   ]
  },
  {
   "cell_type": "code",
   "execution_count": 65,
   "id": "76defdbf",
   "metadata": {},
   "outputs": [
    {
     "name": "stderr",
     "output_type": "stream",
     "text": [
      "C:\\Users\\hp\\anaconda3\\lib\\site-packages\\sklearn\\linear_model\\_logistic.py:458: ConvergenceWarning: lbfgs failed to converge (status=1):\n",
      "STOP: TOTAL NO. of ITERATIONS REACHED LIMIT.\n",
      "\n",
      "Increase the number of iterations (max_iter) or scale the data as shown in:\n",
      "    https://scikit-learn.org/stable/modules/preprocessing.html\n",
      "Please also refer to the documentation for alternative solver options:\n",
      "    https://scikit-learn.org/stable/modules/linear_model.html#logistic-regression\n",
      "  n_iter_i = _check_optimize_result(\n"
     ]
    },
    {
     "name": "stdout",
     "output_type": "stream",
     "text": [
      "LogisticRegression()\n",
      "Model score: 0.965 \n",
      "\n",
      "---------------------------\n",
      "\n",
      "KNeighborsClassifier(n_neighbors=3)\n",
      "Model score: 0.985 \n",
      "\n",
      "---------------------------\n",
      "\n"
     ]
    },
    {
     "name": "stderr",
     "output_type": "stream",
     "text": [
      "C:\\Users\\hp\\anaconda3\\lib\\site-packages\\sklearn\\svm\\_base.py:1244: ConvergenceWarning: Liblinear failed to converge, increase the number of iterations.\n",
      "  warnings.warn(\n"
     ]
    },
    {
     "name": "stdout",
     "output_type": "stream",
     "text": [
      "LinearSVC(C=1)\n",
      "Model score: 0.962 \n",
      "\n",
      "---------------------------\n",
      "\n",
      "SVC(C=1)\n",
      "Model score: 0.845 \n",
      "\n",
      "---------------------------\n",
      "\n",
      "DecisionTreeClassifier()\n",
      "Model score: 0.972 \n",
      "\n",
      "---------------------------\n",
      "\n",
      "GaussianNB()\n",
      "Model score: 0.734 \n",
      "\n",
      "---------------------------\n",
      "\n",
      "RandomForestClassifier()\n",
      "Model score: 0.972 \n",
      "\n",
      "---------------------------\n",
      "\n",
      "AdaBoostClassifier(n_estimators=100)\n",
      "Model score: 0.963 \n",
      "\n",
      "---------------------------\n",
      "\n",
      "XGBClassifier(base_score=None, booster=None, callbacks=None,\n",
      "              colsample_bylevel=None, colsample_bynode=None,\n",
      "              colsample_bytree=None, early_stopping_rounds=None,\n",
      "              enable_categorical=False, eval_metric=None, feature_types=None,\n",
      "              gamma=None, gpu_id=None, grow_policy=None, importance_type=None,\n",
      "              interaction_constraints=None, learning_rate=None, max_bin=None,\n",
      "              max_cat_threshold=None, max_cat_to_onehot=None,\n",
      "              max_delta_step=None, max_depth=None, max_leaves=None,\n",
      "              min_child_weight=None, missing=nan, monotone_constraints=None,\n",
      "              n_estimators=100, n_jobs=None, num_parallel_tree=None,\n",
      "              objective='multi:softprob', predictor=None, ...)\n",
      "Model score: 0.973 \n",
      "\n",
      "---------------------------\n",
      "\n",
      "Learning rate set to 0.5\n",
      "0:\tlearn: 0.4294221\ttotal: 10.8ms\tremaining: 1.07s\n",
      "1:\tlearn: 0.2809010\ttotal: 20.9ms\tremaining: 1.02s\n",
      "2:\tlearn: 0.2130641\ttotal: 30.9ms\tremaining: 999ms\n",
      "3:\tlearn: 0.1761032\ttotal: 41.9ms\tremaining: 1s\n",
      "4:\tlearn: 0.1539005\ttotal: 52.2ms\tremaining: 992ms\n",
      "5:\tlearn: 0.1417285\ttotal: 62.3ms\tremaining: 976ms\n",
      "6:\tlearn: 0.1349136\ttotal: 72.7ms\tremaining: 966ms\n",
      "7:\tlearn: 0.1322187\ttotal: 82.3ms\tremaining: 946ms\n",
      "8:\tlearn: 0.1298493\ttotal: 92.3ms\tremaining: 934ms\n",
      "9:\tlearn: 0.1281615\ttotal: 102ms\tremaining: 921ms\n",
      "10:\tlearn: 0.1267990\ttotal: 112ms\tremaining: 908ms\n",
      "11:\tlearn: 0.1251072\ttotal: 122ms\tremaining: 898ms\n",
      "12:\tlearn: 0.1233931\ttotal: 132ms\tremaining: 886ms\n",
      "13:\tlearn: 0.1226285\ttotal: 143ms\tremaining: 876ms\n",
      "14:\tlearn: 0.1222806\ttotal: 152ms\tremaining: 863ms\n",
      "15:\tlearn: 0.1212551\ttotal: 163ms\tremaining: 854ms\n",
      "16:\tlearn: 0.1206570\ttotal: 173ms\tremaining: 844ms\n",
      "17:\tlearn: 0.1196980\ttotal: 183ms\tremaining: 833ms\n",
      "18:\tlearn: 0.1195418\ttotal: 192ms\tremaining: 820ms\n",
      "19:\tlearn: 0.1193333\ttotal: 206ms\tremaining: 823ms\n",
      "20:\tlearn: 0.1187720\ttotal: 223ms\tremaining: 838ms\n",
      "21:\tlearn: 0.1185194\ttotal: 235ms\tremaining: 831ms\n",
      "22:\tlearn: 0.1182795\ttotal: 245ms\tremaining: 820ms\n",
      "23:\tlearn: 0.1176808\ttotal: 256ms\tremaining: 811ms\n",
      "24:\tlearn: 0.1174643\ttotal: 266ms\tremaining: 798ms\n",
      "25:\tlearn: 0.1170873\ttotal: 277ms\tremaining: 787ms\n",
      "26:\tlearn: 0.1168210\ttotal: 286ms\tremaining: 774ms\n",
      "27:\tlearn: 0.1166315\ttotal: 296ms\tremaining: 762ms\n",
      "28:\tlearn: 0.1163945\ttotal: 306ms\tremaining: 750ms\n",
      "29:\tlearn: 0.1162077\ttotal: 316ms\tremaining: 738ms\n",
      "30:\tlearn: 0.1161114\ttotal: 327ms\tremaining: 727ms\n",
      "31:\tlearn: 0.1159333\ttotal: 337ms\tremaining: 716ms\n",
      "32:\tlearn: 0.1157568\ttotal: 348ms\tremaining: 707ms\n",
      "33:\tlearn: 0.1155384\ttotal: 359ms\tremaining: 697ms\n",
      "34:\tlearn: 0.1154323\ttotal: 369ms\tremaining: 686ms\n",
      "35:\tlearn: 0.1153326\ttotal: 379ms\tremaining: 675ms\n",
      "36:\tlearn: 0.1151611\ttotal: 390ms\tremaining: 664ms\n",
      "37:\tlearn: 0.1150800\ttotal: 403ms\tremaining: 658ms\n",
      "38:\tlearn: 0.1149136\ttotal: 422ms\tremaining: 660ms\n",
      "39:\tlearn: 0.1148076\ttotal: 437ms\tremaining: 655ms\n",
      "40:\tlearn: 0.1145744\ttotal: 463ms\tremaining: 666ms\n",
      "41:\tlearn: 0.1145224\ttotal: 482ms\tremaining: 666ms\n",
      "42:\tlearn: 0.1144090\ttotal: 492ms\tremaining: 653ms\n",
      "43:\tlearn: 0.1143449\ttotal: 503ms\tremaining: 640ms\n",
      "44:\tlearn: 0.1142316\ttotal: 513ms\tremaining: 627ms\n",
      "45:\tlearn: 0.1141742\ttotal: 523ms\tremaining: 614ms\n",
      "46:\tlearn: 0.1140965\ttotal: 534ms\tremaining: 602ms\n",
      "47:\tlearn: 0.1140657\ttotal: 544ms\tremaining: 590ms\n",
      "48:\tlearn: 0.1139535\ttotal: 555ms\tremaining: 577ms\n",
      "49:\tlearn: 0.1138567\ttotal: 564ms\tremaining: 564ms\n",
      "50:\tlearn: 0.1137807\ttotal: 574ms\tremaining: 552ms\n",
      "51:\tlearn: 0.1137406\ttotal: 587ms\tremaining: 542ms\n",
      "52:\tlearn: 0.1136685\ttotal: 599ms\tremaining: 531ms\n",
      "53:\tlearn: 0.1135841\ttotal: 614ms\tremaining: 523ms\n",
      "54:\tlearn: 0.1135260\ttotal: 632ms\tremaining: 517ms\n",
      "55:\tlearn: 0.1134868\ttotal: 643ms\tremaining: 505ms\n",
      "56:\tlearn: 0.1134251\ttotal: 654ms\tremaining: 493ms\n",
      "57:\tlearn: 0.1133643\ttotal: 665ms\tremaining: 481ms\n",
      "58:\tlearn: 0.1133025\ttotal: 676ms\tremaining: 470ms\n",
      "59:\tlearn: 0.1132684\ttotal: 687ms\tremaining: 458ms\n",
      "60:\tlearn: 0.1132289\ttotal: 699ms\tremaining: 447ms\n",
      "61:\tlearn: 0.1131526\ttotal: 709ms\tremaining: 435ms\n",
      "62:\tlearn: 0.1131210\ttotal: 720ms\tremaining: 423ms\n",
      "63:\tlearn: 0.1130898\ttotal: 731ms\tremaining: 411ms\n",
      "64:\tlearn: 0.1130600\ttotal: 741ms\tremaining: 399ms\n",
      "65:\tlearn: 0.1130413\ttotal: 752ms\tremaining: 387ms\n",
      "66:\tlearn: 0.1129853\ttotal: 763ms\tremaining: 376ms\n",
      "67:\tlearn: 0.1129445\ttotal: 775ms\tremaining: 365ms\n",
      "68:\tlearn: 0.1129343\ttotal: 786ms\tremaining: 353ms\n",
      "69:\tlearn: 0.1128877\ttotal: 796ms\tremaining: 341ms\n",
      "70:\tlearn: 0.1128381\ttotal: 806ms\tremaining: 329ms\n",
      "71:\tlearn: 0.1128228\ttotal: 818ms\tremaining: 318ms\n",
      "72:\tlearn: 0.1127697\ttotal: 830ms\tremaining: 307ms\n",
      "73:\tlearn: 0.1127209\ttotal: 846ms\tremaining: 297ms\n",
      "74:\tlearn: 0.1126978\ttotal: 856ms\tremaining: 285ms\n",
      "75:\tlearn: 0.1126754\ttotal: 867ms\tremaining: 274ms\n",
      "76:\tlearn: 0.1125846\ttotal: 879ms\tremaining: 263ms\n",
      "77:\tlearn: 0.1125210\ttotal: 889ms\tremaining: 251ms\n",
      "78:\tlearn: 0.1124981\ttotal: 899ms\tremaining: 239ms\n",
      "79:\tlearn: 0.1124825\ttotal: 909ms\tremaining: 227ms\n",
      "80:\tlearn: 0.1124660\ttotal: 922ms\tremaining: 216ms\n",
      "81:\tlearn: 0.1124509\ttotal: 933ms\tremaining: 205ms\n",
      "82:\tlearn: 0.1124089\ttotal: 943ms\tremaining: 193ms\n",
      "83:\tlearn: 0.1123242\ttotal: 953ms\tremaining: 182ms\n",
      "84:\tlearn: 0.1122888\ttotal: 963ms\tremaining: 170ms\n",
      "85:\tlearn: 0.1122768\ttotal: 974ms\tremaining: 159ms\n",
      "86:\tlearn: 0.1122569\ttotal: 985ms\tremaining: 147ms\n",
      "87:\tlearn: 0.1122386\ttotal: 995ms\tremaining: 136ms\n",
      "88:\tlearn: 0.1122191\ttotal: 1.01s\tremaining: 124ms\n",
      "89:\tlearn: 0.1121578\ttotal: 1.02s\tremaining: 113ms\n",
      "90:\tlearn: 0.1121085\ttotal: 1.03s\tremaining: 102ms\n",
      "91:\tlearn: 0.1120712\ttotal: 1.05s\tremaining: 91.1ms\n",
      "92:\tlearn: 0.1120496\ttotal: 1.06s\tremaining: 79.7ms\n",
      "93:\tlearn: 0.1120272\ttotal: 1.07s\tremaining: 68.3ms\n",
      "94:\tlearn: 0.1120174\ttotal: 1.08s\tremaining: 56.9ms\n",
      "95:\tlearn: 0.1119831\ttotal: 1.09s\tremaining: 45.5ms\n",
      "96:\tlearn: 0.1119625\ttotal: 1.1s\tremaining: 34.1ms\n",
      "97:\tlearn: 0.1119354\ttotal: 1.11s\tremaining: 22.7ms\n",
      "98:\tlearn: 0.1119238\ttotal: 1.12s\tremaining: 11.3ms\n",
      "99:\tlearn: 0.1119107\ttotal: 1.13s\tremaining: 0us\n",
      "<catboost.core.CatBoostClassifier object at 0x000001CCC8858F10>\n",
      "Model score: 0.973 \n",
      "\n",
      "---------------------------\n",
      "\n"
     ]
    }
   ],
   "source": [
    "# Generate pipeline with related classifier models\n",
    "names = [\"LogisticRegression\", \"KNeighborsClassifier\", \"LinearSVC\", \" SVM_RBF\",\"DecisionTree\", \"NaiveBayes\",\n",
    "        \"Random forest Classifier\",\"AdaBoost Classifier\",\" XGBoost Classifier\",\" CatBoost Classifier\"]\n",
    "\n",
    "scores = []\n",
    "r2 = []\n",
    "rmse = []\n",
    "\n",
    "# Define a list of classifiers\n",
    "classifiers = [\n",
    "    LogisticRegression(),\n",
    "    KNeighborsClassifier(3),\n",
    "    LinearSVC(C= 1),\n",
    "    SVC(kernel='rbf',C= 1),\n",
    "    DecisionTreeClassifier(),\n",
    "    GaussianNB(),\n",
    "    RandomForestClassifier(n_estimators=100),\n",
    "    AdaBoostClassifier(n_estimators=100),\n",
    "    XGBClassifier(n_estimators=100),\n",
    "    CatBoostClassifier(iterations=100)\n",
    "]\n",
    "# Choose Robust scaler and SelectFromModel >> RandomForestClassifier\n",
    "for classifier in classifiers:\n",
    "    pipeline = Pipeline([\n",
    "        (\"scaler\",RobustScaler()),\n",
    "        ('feature_selection', SelectFromModel(RandomForestClassifier(n_estimators=50))),\n",
    "        (\"classifier\",classifier),\n",
    "    ])\n",
    "    pipeline.fit(X_train, y_train)\n",
    "    Y_pred = pipeline.predict(X_test)\n",
    "    r2.append(pipeline.score(X_test, y_test))\n",
    "    rmse.append(mean_squared_error(y_test, Y_pred, squared=False))\n",
    "    print(classifier)\n",
    "    scores.append(pipeline.score(X_test, y_test))\n",
    "    print(\"Model score: %.3f \"%pipeline.score(X_test, y_test))\n",
    "    print(\"\\n---------------------------\\n\")"
   ]
  },
  {
   "cell_type": "code",
   "execution_count": 67,
   "id": "ade565f5",
   "metadata": {},
   "outputs": [
    {
     "data": {
      "text/html": [
       "<div>\n",
       "<style scoped>\n",
       "    .dataframe tbody tr th:only-of-type {\n",
       "        vertical-align: middle;\n",
       "    }\n",
       "\n",
       "    .dataframe tbody tr th {\n",
       "        vertical-align: top;\n",
       "    }\n",
       "\n",
       "    .dataframe thead th {\n",
       "        text-align: right;\n",
       "    }\n",
       "</style>\n",
       "<table border=\"1\" class=\"dataframe\">\n",
       "  <thead>\n",
       "    <tr style=\"text-align: right;\">\n",
       "      <th></th>\n",
       "      <th>Classifier</th>\n",
       "      <th>Accuracy</th>\n",
       "      <th>RMSE_Score</th>\n",
       "    </tr>\n",
       "  </thead>\n",
       "  <tbody>\n",
       "    <tr>\n",
       "      <th>1</th>\n",
       "      <td>KNeighborsClassifier</td>\n",
       "      <td>0.984605</td>\n",
       "      <td>0.150681</td>\n",
       "    </tr>\n",
       "    <tr>\n",
       "      <th>9</th>\n",
       "      <td>CatBoost Classifier</td>\n",
       "      <td>0.972976</td>\n",
       "      <td>0.265613</td>\n",
       "    </tr>\n",
       "    <tr>\n",
       "      <th>8</th>\n",
       "      <td>XGBoost Classifier</td>\n",
       "      <td>0.972644</td>\n",
       "      <td>0.268104</td>\n",
       "    </tr>\n",
       "    <tr>\n",
       "      <th>6</th>\n",
       "      <td>Random forest Classifier</td>\n",
       "      <td>0.971979</td>\n",
       "      <td>0.272407</td>\n",
       "    </tr>\n",
       "    <tr>\n",
       "      <th>4</th>\n",
       "      <td>DecisionTree</td>\n",
       "      <td>0.971758</td>\n",
       "      <td>0.274028</td>\n",
       "    </tr>\n",
       "    <tr>\n",
       "      <th>0</th>\n",
       "      <td>LogisticRegression</td>\n",
       "      <td>0.965002</td>\n",
       "      <td>0.320074</td>\n",
       "    </tr>\n",
       "    <tr>\n",
       "      <th>7</th>\n",
       "      <td>AdaBoost Classifier</td>\n",
       "      <td>0.963119</td>\n",
       "      <td>0.331631</td>\n",
       "    </tr>\n",
       "    <tr>\n",
       "      <th>2</th>\n",
       "      <td>LinearSVC</td>\n",
       "      <td>0.961679</td>\n",
       "      <td>0.334292</td>\n",
       "    </tr>\n",
       "    <tr>\n",
       "      <th>3</th>\n",
       "      <td>SVM_RBF</td>\n",
       "      <td>0.844501</td>\n",
       "      <td>0.438990</td>\n",
       "    </tr>\n",
       "    <tr>\n",
       "      <th>5</th>\n",
       "      <td>NaiveBayes</td>\n",
       "      <td>0.734411</td>\n",
       "      <td>1.160409</td>\n",
       "    </tr>\n",
       "  </tbody>\n",
       "</table>\n",
       "</div>"
      ],
      "text/plain": [
       "                 Classifier  Accuracy  RMSE_Score\n",
       "1      KNeighborsClassifier  0.984605    0.150681\n",
       "9       CatBoost Classifier  0.972976    0.265613\n",
       "8        XGBoost Classifier  0.972644    0.268104\n",
       "6  Random forest Classifier  0.971979    0.272407\n",
       "4              DecisionTree  0.971758    0.274028\n",
       "0        LogisticRegression  0.965002    0.320074\n",
       "7       AdaBoost Classifier  0.963119    0.331631\n",
       "2                 LinearSVC  0.961679    0.334292\n",
       "3                   SVM_RBF  0.844501    0.438990\n",
       "5                NaiveBayes  0.734411    1.160409"
      ]
     },
     "execution_count": 67,
     "metadata": {},
     "output_type": "execute_result"
    }
   ],
   "source": [
    "# Generate table for easy view of scores\n",
    "scores_df = pd.DataFrame(zip(names,r2, rmse), columns=['Classifier', 'Accuracy', 'RMSE_Score'])\n",
    "scores_df.sort_values(by=['Accuracy', 'RMSE_Score'], ascending=[False,True])"
   ]
  },
  {
   "cell_type": "markdown",
   "id": "d7ee2572",
   "metadata": {},
   "source": [
    "####  g. Select the best pipe"
   ]
  },
  {
   "cell_type": "code",
   "execution_count": 68,
   "id": "b0661e87",
   "metadata": {},
   "outputs": [
    {
     "name": "stderr",
     "output_type": "stream",
     "text": [
      "C:\\Users\\hp\\anaconda3\\lib\\site-packages\\sklearn\\linear_model\\_logistic.py:458: ConvergenceWarning: lbfgs failed to converge (status=1):\n",
      "STOP: TOTAL NO. of ITERATIONS REACHED LIMIT.\n",
      "\n",
      "Increase the number of iterations (max_iter) or scale the data as shown in:\n",
      "    https://scikit-learn.org/stable/modules/preprocessing.html\n",
      "Please also refer to the documentation for alternative solver options:\n",
      "    https://scikit-learn.org/stable/modules/linear_model.html#logistic-regression\n",
      "  n_iter_i = _check_optimize_result(\n"
     ]
    }
   ],
   "source": [
    "# Apply again same steps with best pipe which is KNeighborsClassifier\n",
    "bestPipe = Pipeline([\n",
    "        (\"scaler\",RobustScaler()),\n",
    "        ('feature_selection', SelectFromModel( LogisticRegression())),\n",
    "        (\"classifier\",KNeighborsClassifier(3)),\n",
    "    ])\n",
    "bestPipe.fit(X_train, y_train)\n",
    "Y_pred = bestPipe.predict(X_test)"
   ]
  },
  {
   "cell_type": "code",
   "execution_count": 69,
   "id": "90e2f1de",
   "metadata": {},
   "outputs": [
    {
     "name": "stdout",
     "output_type": "stream",
     "text": [
      "Confusion Matrix:\n",
      "[[2488    0    6    0]\n",
      " [   0 6202    0    0]\n",
      " [  24  113  193    0]\n",
      " [   0    3    0    0]]\n",
      "\n",
      "Confusion Matrix HeatMap:\n"
     ]
    },
    {
     "data": {
      "text/plain": [
       "<Axes: xlabel='Predicted', ylabel='Actual'>"
      ]
     },
     "execution_count": 69,
     "metadata": {},
     "output_type": "execute_result"
    },
    {
     "data": {
      "image/png": "[encoded data removed]",
      "text/plain": [
       "<Figure size 400x400 with 1 Axes>"
      ]
     },
     "metadata": {},
     "output_type": "display_data"
    }
   ],
   "source": [
    "# Confusion matrix\n",
    "print(\"Confusion Matrix:\")\n",
    "cm = confusion_matrix(y_test, Y_pred)\n",
    "print(cm)\n",
    "\n",
    "print(\"\\nConfusion Matrix HeatMap:\")\n",
    "df_cm = pd.DataFrame(cm, columns=np.unique(y_test), index = np.unique(y_test))\n",
    "df_cm.index.name = 'Actual'\n",
    "df_cm.columns.name = 'Predicted'\n",
    "plt.figure(figsize = (4,4))\n",
    "sns.heatmap(df_cm, annot=True, cbar=False, square=True, cmap=\"Blues\",vmax = 6000,fmt=\"d\")"
   ]
  },
  {
   "cell_type": "code",
   "execution_count": 70,
   "id": "1595159b",
   "metadata": {},
   "outputs": [
    {
     "name": "stdout",
     "output_type": "stream",
     "text": [
      "\n",
      "Classification Report:\n",
      "              precision    recall  f1-score   support\n",
      "\n",
      "           0       0.99      1.00      0.99      2494\n",
      "           1       0.98      1.00      0.99      6202\n",
      "           2       0.97      0.58      0.73       330\n",
      "           3       0.00      0.00      0.00         3\n",
      "\n",
      "    accuracy                           0.98      9029\n",
      "   macro avg       0.74      0.65      0.68      9029\n",
      "weighted avg       0.98      0.98      0.98      9029\n",
      "\n"
     ]
    },
    {
     "name": "stderr",
     "output_type": "stream",
     "text": [
      "C:\\Users\\hp\\anaconda3\\lib\\site-packages\\sklearn\\metrics\\_classification.py:1344: UndefinedMetricWarning: Precision and F-score are ill-defined and being set to 0.0 in labels with no predicted samples. Use `zero_division` parameter to control this behavior.\n",
      "  _warn_prf(average, modifier, msg_start, len(result))\n",
      "C:\\Users\\hp\\anaconda3\\lib\\site-packages\\sklearn\\metrics\\_classification.py:1344: UndefinedMetricWarning: Precision and F-score are ill-defined and being set to 0.0 in labels with no predicted samples. Use `zero_division` parameter to control this behavior.\n",
      "  _warn_prf(average, modifier, msg_start, len(result))\n",
      "C:\\Users\\hp\\anaconda3\\lib\\site-packages\\sklearn\\metrics\\_classification.py:1344: UndefinedMetricWarning: Precision and F-score are ill-defined and being set to 0.0 in labels with no predicted samples. Use `zero_division` parameter to control this behavior.\n",
      "  _warn_prf(average, modifier, msg_start, len(result))\n"
     ]
    }
   ],
   "source": [
    "# Classification report and precision/recall\n",
    "print(\"\\nClassification Report:\")\n",
    "print(classification_report(y_test, Y_pred))"
   ]
  }
 ],
 "metadata": {
  "kernelspec": {
   "display_name": "Python 3 (ipykernel)",
   "language": "python",
   "name": "python3"
  },
  "language_info": {
   "codemirror_mode": {
    "name": "ipython",
    "version": 3
   },
   "file_extension": ".py",
   "mimetype": "text/x-python",
   "name": "python",
   "nbconvert_exporter": "python",
   "pygments_lexer": "ipython3",
   "version": "3.10.11"
  }
 },
 "nbformat": 4,
 "nbformat_minor": 5
}
