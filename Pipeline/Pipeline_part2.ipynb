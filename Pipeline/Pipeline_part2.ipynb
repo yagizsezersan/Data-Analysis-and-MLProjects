{
 "cells": [
  {
   "cell_type": "markdown",
   "id": "fdbd45bb",
   "metadata": {},
   "source": [
    "# Part 2(regression)\n",
    "#### Name: YAGIZ SEZERSAN\n"
   ]
  },
  {
   "cell_type": "markdown",
   "id": "8c910eab",
   "metadata": {},
   "source": [
    "#### a. Load the python library\n"
   ]
  },
  {
   "cell_type": "code",
   "execution_count": 83,
   "id": "bdb67866",
   "metadata": {},
   "outputs": [],
   "source": [
    "# Necessary libraries for Lab4\n",
    "import numpy as np\n",
    "import pandas as pd\n",
    "import matplotlib.pyplot as plt\n",
    "import seaborn as sns\n",
    "\n",
    "from sklearn.feature_selection import SelectKBest\n",
    "from sklearn.feature_selection import f_regression\n",
    "from sklearn.preprocessing import StandardScaler, MinMaxScaler, RobustScaler\n",
    "from sklearn.model_selection import train_test_split\n",
    "\n",
    "from sklearn.metrics import mean_squared_error,r2_score\n",
    "from sklearn.linear_model import LogisticRegression\n",
    "from sklearn.linear_model import LinearRegression\n",
    "from sklearn.feature_selection import SelectFromModel\n",
    "from sklearn.svm import LinearSVC, SVC\n",
    "from sklearn.metrics import accuracy_score\n",
    "from sklearn.pipeline import Pipeline\n",
    "\n",
    "from sklearn.ensemble import RandomForestRegressor, GradientBoostingRegressor, AdaBoostRegressor, RandomForestClassifier\n",
    "from sklearn.linear_model import LinearRegression, SGDRegressor\n",
    "from sklearn.tree import DecisionTreeRegressor\n",
    "from xgboost import XGBRegressor\n",
    "from catboost import CatBoostRegressor\n",
    "from lightgbm import LGBMRegressor"
   ]
  },
  {
   "cell_type": "markdown",
   "id": "57767219",
   "metadata": {},
   "source": [
    "#### b. Read the data"
   ]
  },
  {
   "cell_type": "code",
   "execution_count": 84,
   "id": "71cccf25",
   "metadata": {},
   "outputs": [
    {
     "data": {
      "text/html": [
       "<div>\n",
       "<style scoped>\n",
       "    .dataframe tbody tr th:only-of-type {\n",
       "        vertical-align: middle;\n",
       "    }\n",
       "\n",
       "    .dataframe tbody tr th {\n",
       "        vertical-align: top;\n",
       "    }\n",
       "\n",
       "    .dataframe thead th {\n",
       "        text-align: right;\n",
       "    }\n",
       "</style>\n",
       "<table border=\"1\" class=\"dataframe\">\n",
       "  <thead>\n",
       "    <tr style=\"text-align: right;\">\n",
       "      <th></th>\n",
       "      <th>make</th>\n",
       "      <th>type</th>\n",
       "      <th>transmission</th>\n",
       "      <th>fuel</th>\n",
       "      <th>fuel_comb</th>\n",
       "      <th>emissions</th>\n",
       "      <th>engine(l)</th>\n",
       "      <th>cylinder</th>\n",
       "    </tr>\n",
       "  </thead>\n",
       "  <tbody>\n",
       "    <tr>\n",
       "      <th>0</th>\n",
       "      <td>mazda</td>\n",
       "      <td>two_seater</td>\n",
       "      <td>automatic_shift</td>\n",
       "      <td>z</td>\n",
       "      <td>7.9</td>\n",
       "      <td>186</td>\n",
       "      <td>2.0</td>\n",
       "      <td>4</td>\n",
       "    </tr>\n",
       "    <tr>\n",
       "      <th>1</th>\n",
       "      <td>dodge</td>\n",
       "      <td>full_size</td>\n",
       "      <td>automatic</td>\n",
       "      <td>e</td>\n",
       "      <td>14.0</td>\n",
       "      <td>234</td>\n",
       "      <td>3.6</td>\n",
       "      <td>6</td>\n",
       "    </tr>\n",
       "    <tr>\n",
       "      <th>2</th>\n",
       "      <td>mercedes_benz</td>\n",
       "      <td>full_size</td>\n",
       "      <td>automatic</td>\n",
       "      <td>z</td>\n",
       "      <td>15.1</td>\n",
       "      <td>355</td>\n",
       "      <td>6.0</td>\n",
       "      <td>12</td>\n",
       "    </tr>\n",
       "    <tr>\n",
       "      <th>3</th>\n",
       "      <td>infiniti</td>\n",
       "      <td>suv</td>\n",
       "      <td>continuously_variable</td>\n",
       "      <td>x</td>\n",
       "      <td>8.7</td>\n",
       "      <td>200</td>\n",
       "      <td>2.5</td>\n",
       "      <td>4</td>\n",
       "    </tr>\n",
       "    <tr>\n",
       "      <th>4</th>\n",
       "      <td>jeep</td>\n",
       "      <td>suv</td>\n",
       "      <td>continuously_variable</td>\n",
       "      <td>x</td>\n",
       "      <td>11.1</td>\n",
       "      <td>255</td>\n",
       "      <td>2.4</td>\n",
       "      <td>4</td>\n",
       "    </tr>\n",
       "  </tbody>\n",
       "</table>\n",
       "</div>"
      ],
      "text/plain": [
       "            make        type           transmission fuel  fuel_comb  \\\n",
       "0          mazda  two_seater        automatic_shift    z        7.9   \n",
       "1          dodge   full_size              automatic    e       14.0   \n",
       "2  mercedes_benz   full_size              automatic    z       15.1   \n",
       "3       infiniti         suv  continuously_variable    x        8.7   \n",
       "4           jeep         suv  continuously_variable    x       11.1   \n",
       "\n",
       "   emissions  engine(l)  cylinder  \n",
       "0        186        2.0         4  \n",
       "1        234        3.6         6  \n",
       "2        355        6.0        12  \n",
       "3        200        2.5         4  \n",
       "4        255        2.4         4  "
      ]
     },
     "execution_count": 84,
     "metadata": {},
     "output_type": "execute_result"
    }
   ],
   "source": [
    "# Import csv file\n",
    "df = pd.read_csv(\"car_emission.csv\")\n",
    "\n",
    "# Display the first few rows of dataset\n",
    "df.head()"
   ]
  },
  {
   "cell_type": "code",
   "execution_count": 85,
   "id": "066da438",
   "metadata": {},
   "outputs": [
    {
     "name": "stdout",
     "output_type": "stream",
     "text": [
      "<class 'pandas.core.frame.DataFrame'>\n",
      "RangeIndex: 6444 entries, 0 to 6443\n",
      "Data columns (total 8 columns):\n",
      " #   Column        Non-Null Count  Dtype  \n",
      "---  ------        --------------  -----  \n",
      " 0   make          6444 non-null   object \n",
      " 1   type          6444 non-null   object \n",
      " 2   transmission  6444 non-null   object \n",
      " 3   fuel          6444 non-null   object \n",
      " 4   fuel_comb     6444 non-null   float64\n",
      " 5   emissions     6444 non-null   int64  \n",
      " 6   engine(l)     6444 non-null   float64\n",
      " 7   cylinder      6444 non-null   int64  \n",
      "dtypes: float64(2), int64(2), object(4)\n",
      "memory usage: 402.9+ KB\n"
     ]
    }
   ],
   "source": [
    "# Display the column information\n",
    "df.info()"
   ]
  },
  {
   "cell_type": "markdown",
   "id": "53915b78",
   "metadata": {},
   "source": [
    "#### c. Drop the unneeded data"
   ]
  },
  {
   "cell_type": "code",
   "execution_count": 86,
   "id": "3ee6481a",
   "metadata": {},
   "outputs": [
    {
     "data": {
      "text/plain": [
       "0"
      ]
     },
     "execution_count": 86,
     "metadata": {},
     "output_type": "execute_result"
    }
   ],
   "source": [
    "# First we need to see how many null values we have\n",
    "df.isnull().sum().sum()"
   ]
  },
  {
   "cell_type": "code",
   "execution_count": 87,
   "id": "fe5905b4",
   "metadata": {},
   "outputs": [
    {
     "name": "stdout",
     "output_type": "stream",
     "text": [
      "ford             628\n",
      "chevrolet        587\n",
      "bmw              527\n",
      "mercedes_benz    419\n",
      "porsche          376\n",
      "toyota           330\n",
      "gmc              328\n",
      "audi             286\n",
      "nissan           259\n",
      "jeep             251\n",
      "dodge            246\n",
      "kia              231\n",
      "honda            214\n",
      "hyundai          210\n",
      "mini             204\n",
      "volkswagen       197\n",
      "mazda            180\n",
      "lexus            178\n",
      "jaguar           160\n",
      "cadillac         158\n",
      "subaru           140\n",
      "volvo            124\n",
      "infiniti         108\n",
      "buick            103\n",
      "Name: make, dtype: int64\n",
      "\n",
      "compact       1742\n",
      "suv           1714\n",
      "mid_size      1014\n",
      "pickup         610\n",
      "full_size      510\n",
      "van_wagon      428\n",
      "two_seater     364\n",
      "other           62\n",
      "Name: type, dtype: int64\n",
      "\n",
      "automatic_shift          2736\n",
      "automatic                1564\n",
      "manual                   1096\n",
      "automated_manual          541\n",
      "continuously_variable     507\n",
      "Name: transmission, dtype: int64\n",
      "\n",
      "x    3238\n",
      "z    2735\n",
      "e     322\n",
      "d     149\n",
      "Name: fuel, dtype: int64\n"
     ]
    }
   ],
   "source": [
    "# Check unique values for object columns\n",
    "print(df.make.value_counts())\n",
    "print()\n",
    "\n",
    "print(df.type.value_counts())\n",
    "print()\n",
    "\n",
    "print(df.transmission.value_counts())\n",
    "print()\n",
    "\n",
    "print(df.fuel.value_counts())"
   ]
  },
  {
   "cell_type": "code",
   "execution_count": 88,
   "id": "6e8ffd65",
   "metadata": {},
   "outputs": [],
   "source": [
    "# Drop make columns since there many different unique values\n",
    "df.drop([\"make\"], axis = 1, inplace = True)"
   ]
  },
  {
   "cell_type": "markdown",
   "id": "8070c18b",
   "metadata": {},
   "source": [
    "#### d. Create dummy values for the dataframe"
   ]
  },
  {
   "cell_type": "code",
   "execution_count": 89,
   "id": "11869f53",
   "metadata": {},
   "outputs": [],
   "source": [
    "# Create dummy variables\n",
    "df1 = pd.get_dummies(df, drop_first=True)"
   ]
  },
  {
   "cell_type": "code",
   "execution_count": 90,
   "id": "130b6bae",
   "metadata": {
    "scrolled": true
   },
   "outputs": [
    {
     "name": "stdout",
     "output_type": "stream",
     "text": [
      "<class 'pandas.core.frame.DataFrame'>\n",
      "RangeIndex: 6444 entries, 0 to 6443\n",
      "Data columns (total 18 columns):\n",
      " #   Column                              Non-Null Count  Dtype  \n",
      "---  ------                              --------------  -----  \n",
      " 0   fuel_comb                           6444 non-null   float64\n",
      " 1   emissions                           6444 non-null   int64  \n",
      " 2   engine(l)                           6444 non-null   float64\n",
      " 3   cylinder                            6444 non-null   int64  \n",
      " 4   type_full_size                      6444 non-null   uint8  \n",
      " 5   type_mid_size                       6444 non-null   uint8  \n",
      " 6   type_other                          6444 non-null   uint8  \n",
      " 7   type_pickup                         6444 non-null   uint8  \n",
      " 8   type_suv                            6444 non-null   uint8  \n",
      " 9   type_two_seater                     6444 non-null   uint8  \n",
      " 10  type_van_wagon                      6444 non-null   uint8  \n",
      " 11  transmission_automatic              6444 non-null   uint8  \n",
      " 12  transmission_automatic_shift        6444 non-null   uint8  \n",
      " 13  transmission_continuously_variable  6444 non-null   uint8  \n",
      " 14  transmission_manual                 6444 non-null   uint8  \n",
      " 15  fuel_e                              6444 non-null   uint8  \n",
      " 16  fuel_x                              6444 non-null   uint8  \n",
      " 17  fuel_z                              6444 non-null   uint8  \n",
      "dtypes: float64(2), int64(2), uint8(14)\n",
      "memory usage: 289.6 KB\n"
     ]
    }
   ],
   "source": [
    "# Now all columns are numerical\n",
    "df1.info()"
   ]
  },
  {
   "cell_type": "code",
   "execution_count": 91,
   "id": "5b9d3444",
   "metadata": {},
   "outputs": [],
   "source": [
    "# Save cleaned dataset\n",
    "df1.to_csv(\"car_emission_cleaned.csv\", index=False)"
   ]
  },
  {
   "cell_type": "markdown",
   "id": "695611aa",
   "metadata": {},
   "source": [
    "####  e. Prepare the features and target variable"
   ]
  },
  {
   "cell_type": "code",
   "execution_count": 92,
   "id": "595f596a",
   "metadata": {},
   "outputs": [],
   "source": [
    "# Assign features and target\n",
    "X = df1.drop([\"emissions\"],axis = 1)\n",
    "y = df1[\"emissions\"]\n",
    "\n",
    "# Split data as test an training\n",
    "X_train, X_test, y_train, y_test = train_test_split(X, y, test_size=0.25, random_state=42)"
   ]
  },
  {
   "cell_type": "markdown",
   "id": "f10bd2c2",
   "metadata": {},
   "source": [
    "####  f. Create a pipeline"
   ]
  },
  {
   "cell_type": "code",
   "execution_count": 93,
   "id": "fd4c0fea",
   "metadata": {},
   "outputs": [
    {
     "name": "stdout",
     "output_type": "stream",
     "text": [
      "LinearRegression()\n",
      "Model score: 0.827 \n",
      "\n",
      "---------------------------\n",
      "\n",
      "DecisionTreeRegressor(max_depth=5)\n",
      "Model score: 0.886 \n",
      "\n",
      "---------------------------\n",
      "\n",
      "RandomForestRegressor()\n",
      "Model score: 0.898 \n",
      "\n",
      "---------------------------\n",
      "\n",
      "GradientBoostingRegressor()\n",
      "Model score: 0.898 \n",
      "\n",
      "---------------------------\n",
      "\n",
      "AdaBoostRegressor(n_estimators=100)\n",
      "Model score: 0.859 \n",
      "\n",
      "---------------------------\n",
      "\n",
      "XGBRegressor(base_score=None, booster=None, callbacks=None,\n",
      "             colsample_bylevel=None, colsample_bynode=None,\n",
      "             colsample_bytree=None, early_stopping_rounds=None,\n",
      "             enable_categorical=False, eval_metric=None, feature_types=None,\n",
      "             gamma=None, gpu_id=None, grow_policy=None, importance_type=None,\n",
      "             interaction_constraints=None, learning_rate=0.1, max_bin=None,\n",
      "             max_cat_threshold=None, max_cat_to_onehot=None,\n",
      "             max_delta_step=None, max_depth=None, max_leaves=None,\n",
      "             min_child_weight=None, missing=nan, monotone_constraints=None,\n",
      "             n_estimators=100, n_jobs=None, num_parallel_tree=None,\n",
      "             predictor=None, random_state=None, ...)\n",
      "Model score: 0.898 \n",
      "\n",
      "---------------------------\n",
      "\n",
      "Learning rate set to 0.341418\n",
      "0:\tlearn: 40.3657339\ttotal: 1.91ms\tremaining: 190ms\n",
      "1:\tlearn: 30.6214834\ttotal: 3.65ms\tremaining: 179ms\n",
      "2:\tlearn: 24.8592460\ttotal: 5.36ms\tremaining: 173ms\n",
      "3:\tlearn: 21.4256659\ttotal: 7.04ms\tremaining: 169ms\n",
      "4:\tlearn: 19.6831356\ttotal: 8.73ms\tremaining: 166ms\n",
      "5:\tlearn: 18.8469814\ttotal: 10.4ms\tremaining: 163ms\n",
      "6:\tlearn: 18.2536843\ttotal: 12.1ms\tremaining: 161ms\n",
      "7:\tlearn: 17.9558062\ttotal: 13.7ms\tremaining: 158ms\n",
      "8:\tlearn: 17.7591752\ttotal: 15.4ms\tremaining: 156ms\n",
      "9:\tlearn: 17.6595813\ttotal: 17ms\tremaining: 153ms\n",
      "10:\tlearn: 17.4554527\ttotal: 18.6ms\tremaining: 150ms\n",
      "11:\tlearn: 17.3540057\ttotal: 20.2ms\tremaining: 148ms\n",
      "12:\tlearn: 17.2843303\ttotal: 21.8ms\tremaining: 146ms\n",
      "13:\tlearn: 17.2461287\ttotal: 23.4ms\tremaining: 144ms\n",
      "14:\tlearn: 17.2175640\ttotal: 25.1ms\tremaining: 142ms\n",
      "15:\tlearn: 17.2094482\ttotal: 26.8ms\tremaining: 141ms\n",
      "16:\tlearn: 17.0735769\ttotal: 28.5ms\tremaining: 139ms\n",
      "17:\tlearn: 16.9913930\ttotal: 30.1ms\tremaining: 137ms\n",
      "18:\tlearn: 16.9434428\ttotal: 31.7ms\tremaining: 135ms\n",
      "19:\tlearn: 16.8890641\ttotal: 33.4ms\tremaining: 134ms\n",
      "20:\tlearn: 16.8443596\ttotal: 35.1ms\tremaining: 132ms\n",
      "21:\tlearn: 16.8056519\ttotal: 36.7ms\tremaining: 130ms\n",
      "22:\tlearn: 16.7692028\ttotal: 38.3ms\tremaining: 128ms\n",
      "23:\tlearn: 16.7478138\ttotal: 40.1ms\tremaining: 127ms\n",
      "24:\tlearn: 16.6424396\ttotal: 41.6ms\tremaining: 125ms\n",
      "25:\tlearn: 16.6084519\ttotal: 43.1ms\tremaining: 123ms\n",
      "26:\tlearn: 16.5721555\ttotal: 44.7ms\tremaining: 121ms\n",
      "27:\tlearn: 16.5296936\ttotal: 46.2ms\tremaining: 119ms\n",
      "28:\tlearn: 16.5051909\ttotal: 47.7ms\tremaining: 117ms\n",
      "29:\tlearn: 16.4816462\ttotal: 49.4ms\tremaining: 115ms\n",
      "30:\tlearn: 16.4247046\ttotal: 51ms\tremaining: 114ms\n",
      "31:\tlearn: 16.4074573\ttotal: 52.6ms\tremaining: 112ms\n",
      "32:\tlearn: 16.3723307\ttotal: 54.2ms\tremaining: 110ms\n",
      "33:\tlearn: 16.3397358\ttotal: 55.8ms\tremaining: 108ms\n",
      "34:\tlearn: 16.3029318\ttotal: 57.4ms\tremaining: 107ms\n",
      "35:\tlearn: 16.2529468\ttotal: 59.1ms\tremaining: 105ms\n",
      "36:\tlearn: 16.2188064\ttotal: 60.7ms\tremaining: 103ms\n",
      "37:\tlearn: 16.1887490\ttotal: 62.2ms\tremaining: 102ms\n",
      "38:\tlearn: 16.1614119\ttotal: 63.9ms\tremaining: 99.9ms\n",
      "39:\tlearn: 16.1371582\ttotal: 65.4ms\tremaining: 98.2ms\n",
      "40:\tlearn: 16.1141890\ttotal: 67.1ms\tremaining: 96.5ms\n",
      "41:\tlearn: 16.0986170\ttotal: 68.8ms\tremaining: 95ms\n",
      "42:\tlearn: 16.0884134\ttotal: 70.4ms\tremaining: 93.3ms\n",
      "43:\tlearn: 16.0795451\ttotal: 72.1ms\tremaining: 91.7ms\n",
      "44:\tlearn: 16.0475725\ttotal: 73.7ms\tremaining: 90.1ms\n",
      "45:\tlearn: 16.0343544\ttotal: 75.3ms\tremaining: 88.4ms\n",
      "46:\tlearn: 16.0148945\ttotal: 77ms\tremaining: 86.8ms\n",
      "47:\tlearn: 16.0078155\ttotal: 78.6ms\tremaining: 85.2ms\n",
      "48:\tlearn: 15.9914453\ttotal: 80.1ms\tremaining: 83.4ms\n",
      "49:\tlearn: 15.9650056\ttotal: 81.7ms\tremaining: 81.7ms\n",
      "50:\tlearn: 15.9505595\ttotal: 83.4ms\tremaining: 80.1ms\n",
      "51:\tlearn: 15.9401476\ttotal: 85.1ms\tremaining: 78.5ms\n",
      "52:\tlearn: 15.9248303\ttotal: 86.8ms\tremaining: 77ms\n",
      "53:\tlearn: 15.9182496\ttotal: 88.4ms\tremaining: 75.3ms\n",
      "54:\tlearn: 15.9076172\ttotal: 90.1ms\tremaining: 73.7ms\n",
      "55:\tlearn: 15.8963725\ttotal: 91.6ms\tremaining: 72ms\n",
      "56:\tlearn: 15.8846404\ttotal: 93.3ms\tremaining: 70.4ms\n",
      "57:\tlearn: 15.8744688\ttotal: 94.8ms\tremaining: 68.7ms\n",
      "58:\tlearn: 15.8675658\ttotal: 96.5ms\tremaining: 67.1ms\n",
      "59:\tlearn: 15.8590877\ttotal: 98.1ms\tremaining: 65.4ms\n",
      "60:\tlearn: 15.8553565\ttotal: 99.7ms\tremaining: 63.7ms\n",
      "61:\tlearn: 15.8446185\ttotal: 101ms\tremaining: 62.1ms\n",
      "62:\tlearn: 15.8391992\ttotal: 103ms\tremaining: 60.4ms\n",
      "63:\tlearn: 15.8317170\ttotal: 104ms\tremaining: 58.7ms\n",
      "64:\tlearn: 15.8255455\ttotal: 106ms\tremaining: 57ms\n",
      "65:\tlearn: 15.8156055\ttotal: 108ms\tremaining: 55.4ms\n",
      "66:\tlearn: 15.8050719\ttotal: 109ms\tremaining: 53.8ms\n",
      "67:\tlearn: 15.8004897\ttotal: 111ms\tremaining: 52.2ms\n",
      "68:\tlearn: 15.7848898\ttotal: 113ms\tremaining: 50.6ms\n",
      "69:\tlearn: 15.7792034\ttotal: 114ms\tremaining: 49ms\n",
      "70:\tlearn: 15.7712366\ttotal: 116ms\tremaining: 47.5ms\n",
      "71:\tlearn: 15.7663488\ttotal: 118ms\tremaining: 45.9ms\n",
      "72:\tlearn: 15.7575212\ttotal: 120ms\tremaining: 44.3ms\n",
      "73:\tlearn: 15.7533780\ttotal: 121ms\tremaining: 42.6ms\n",
      "74:\tlearn: 15.7475392\ttotal: 123ms\tremaining: 40.9ms\n",
      "75:\tlearn: 15.7421353\ttotal: 124ms\tremaining: 39.3ms\n",
      "76:\tlearn: 15.7353305\ttotal: 126ms\tremaining: 37.6ms\n",
      "77:\tlearn: 15.7309396\ttotal: 128ms\tremaining: 36ms\n",
      "78:\tlearn: 15.7269021\ttotal: 129ms\tremaining: 34.3ms\n",
      "79:\tlearn: 15.7235020\ttotal: 131ms\tremaining: 32.7ms\n",
      "80:\tlearn: 15.7200484\ttotal: 132ms\tremaining: 31ms\n",
      "81:\tlearn: 15.7159444\ttotal: 134ms\tremaining: 29.4ms\n",
      "82:\tlearn: 15.7024003\ttotal: 136ms\tremaining: 27.8ms\n",
      "83:\tlearn: 15.6980558\ttotal: 137ms\tremaining: 26.1ms\n",
      "84:\tlearn: 15.6954232\ttotal: 139ms\tremaining: 24.5ms\n",
      "85:\tlearn: 15.6818921\ttotal: 141ms\tremaining: 22.9ms\n",
      "86:\tlearn: 15.6756131\ttotal: 142ms\tremaining: 21.2ms\n",
      "87:\tlearn: 15.6720395\ttotal: 144ms\tremaining: 19.6ms\n",
      "88:\tlearn: 15.6703089\ttotal: 145ms\tremaining: 17.9ms\n",
      "89:\tlearn: 15.6682948\ttotal: 147ms\tremaining: 16.3ms\n",
      "90:\tlearn: 15.6642105\ttotal: 148ms\tremaining: 14.7ms\n",
      "91:\tlearn: 15.6618911\ttotal: 150ms\tremaining: 13ms\n",
      "92:\tlearn: 15.6587063\ttotal: 152ms\tremaining: 11.4ms\n",
      "93:\tlearn: 15.6560996\ttotal: 153ms\tremaining: 9.77ms\n",
      "94:\tlearn: 15.6519362\ttotal: 155ms\tremaining: 8.15ms\n",
      "95:\tlearn: 15.6483102\ttotal: 156ms\tremaining: 6.52ms\n",
      "96:\tlearn: 15.6433507\ttotal: 158ms\tremaining: 4.89ms\n",
      "97:\tlearn: 15.6353464\ttotal: 160ms\tremaining: 3.26ms\n",
      "98:\tlearn: 15.6266775\ttotal: 161ms\tremaining: 1.63ms\n",
      "99:\tlearn: 15.6239650\ttotal: 163ms\tremaining: 0us\n",
      "<catboost.core.CatBoostRegressor object at 0x0000019D6DB5B250>\n",
      "Model score: 0.898 \n",
      "\n",
      "---------------------------\n",
      "\n",
      "LGBMRegressor()\n",
      "Model score: 0.895 \n",
      "\n",
      "---------------------------\n",
      "\n",
      "SGDRegressor()\n",
      "Model score: 0.827 \n",
      "\n",
      "---------------------------\n",
      "\n"
     ]
    }
   ],
   "source": [
    "# Generate pipeline with related regressors models\n",
    "names = [\"LinearRegression\", \"DecisionTreeRegressor\", \"RandomForestRegressor\", \" GradientBoostingRegressor\",\n",
    "         \"AdaBoostRegressor\", \"XGBRegressor\",\"CatBoostRegressor\",\"LGBMRegressor\",\"SGDRegressor\"]\n",
    "\n",
    "scores = []\n",
    "r2 = []\n",
    "rmse = []\n",
    "\n",
    "# Define a list of regressors\n",
    "regressors = [\n",
    "    LinearRegression(),\n",
    "    DecisionTreeRegressor(max_depth= 5),\n",
    "    RandomForestRegressor(n_estimators= 100),\n",
    "    GradientBoostingRegressor(learning_rate= 0.1, n_estimators= 100),\n",
    "    AdaBoostRegressor(n_estimators= 100),\n",
    "    XGBRegressor(learning_rate= 0.1),\n",
    "    CatBoostRegressor(iterations= 100),\n",
    "    LGBMRegressor(learning_rate= 0.1, n_estimators= 100),\n",
    "    SGDRegressor(max_iter= 1000, tol= 1e-3, eta0= 0.01) \n",
    "]\n",
    "# Choose Robust scaler\n",
    "for regressor in regressors:\n",
    "    pipeline = Pipeline([\n",
    "        (\"scaler\",RobustScaler()),\n",
    "        ('feature_selection', SelectFromModel(RandomForestRegressor(n_estimators=100))),\n",
    "        (\"regressor\",regressor),\n",
    "    ])\n",
    "    pipeline.fit(X_train, y_train)\n",
    "    Y_pred = pipeline.predict(X_test)\n",
    "    r2.append(pipeline.score(X_test, y_test))\n",
    "    rmse.append(mean_squared_error(y_test, Y_pred, squared=False))\n",
    "    print(regressor)\n",
    "    scores.append(pipeline.score(X_test, y_test))\n",
    "    print(\"Model score: %.3f \"%pipeline.score(X_test, y_test))\n",
    "    print(\"\\n---------------------------\\n\")"
   ]
  },
  {
   "cell_type": "code",
   "execution_count": 94,
   "id": "7653196f",
   "metadata": {},
   "outputs": [
    {
     "data": {
      "text/html": [
       "<div>\n",
       "<style scoped>\n",
       "    .dataframe tbody tr th:only-of-type {\n",
       "        vertical-align: middle;\n",
       "    }\n",
       "\n",
       "    .dataframe tbody tr th {\n",
       "        vertical-align: top;\n",
       "    }\n",
       "\n",
       "    .dataframe thead th {\n",
       "        text-align: right;\n",
       "    }\n",
       "</style>\n",
       "<table border=\"1\" class=\"dataframe\">\n",
       "  <thead>\n",
       "    <tr style=\"text-align: right;\">\n",
       "      <th></th>\n",
       "      <th>regressor</th>\n",
       "      <th>Accuracy</th>\n",
       "      <th>RMSE_Score</th>\n",
       "    </tr>\n",
       "  </thead>\n",
       "  <tbody>\n",
       "    <tr>\n",
       "      <th>5</th>\n",
       "      <td>XGBRegressor</td>\n",
       "      <td>0.898311</td>\n",
       "      <td>17.031759</td>\n",
       "    </tr>\n",
       "    <tr>\n",
       "      <th>2</th>\n",
       "      <td>RandomForestRegressor</td>\n",
       "      <td>0.898263</td>\n",
       "      <td>17.035762</td>\n",
       "    </tr>\n",
       "    <tr>\n",
       "      <th>3</th>\n",
       "      <td>GradientBoostingRegressor</td>\n",
       "      <td>0.898098</td>\n",
       "      <td>17.049532</td>\n",
       "    </tr>\n",
       "    <tr>\n",
       "      <th>6</th>\n",
       "      <td>CatBoostRegressor</td>\n",
       "      <td>0.897838</td>\n",
       "      <td>17.071271</td>\n",
       "    </tr>\n",
       "    <tr>\n",
       "      <th>7</th>\n",
       "      <td>LGBMRegressor</td>\n",
       "      <td>0.895083</td>\n",
       "      <td>17.299917</td>\n",
       "    </tr>\n",
       "    <tr>\n",
       "      <th>1</th>\n",
       "      <td>DecisionTreeRegressor</td>\n",
       "      <td>0.885771</td>\n",
       "      <td>18.051327</td>\n",
       "    </tr>\n",
       "    <tr>\n",
       "      <th>4</th>\n",
       "      <td>AdaBoostRegressor</td>\n",
       "      <td>0.858657</td>\n",
       "      <td>20.079771</td>\n",
       "    </tr>\n",
       "    <tr>\n",
       "      <th>0</th>\n",
       "      <td>LinearRegression</td>\n",
       "      <td>0.827238</td>\n",
       "      <td>22.199612</td>\n",
       "    </tr>\n",
       "    <tr>\n",
       "      <th>8</th>\n",
       "      <td>SGDRegressor</td>\n",
       "      <td>0.827214</td>\n",
       "      <td>22.201181</td>\n",
       "    </tr>\n",
       "  </tbody>\n",
       "</table>\n",
       "</div>"
      ],
      "text/plain": [
       "                    regressor  Accuracy  RMSE_Score\n",
       "5                XGBRegressor  0.898311   17.031759\n",
       "2       RandomForestRegressor  0.898263   17.035762\n",
       "3   GradientBoostingRegressor  0.898098   17.049532\n",
       "6           CatBoostRegressor  0.897838   17.071271\n",
       "7               LGBMRegressor  0.895083   17.299917\n",
       "1       DecisionTreeRegressor  0.885771   18.051327\n",
       "4           AdaBoostRegressor  0.858657   20.079771\n",
       "0            LinearRegression  0.827238   22.199612\n",
       "8                SGDRegressor  0.827214   22.201181"
      ]
     },
     "execution_count": 94,
     "metadata": {},
     "output_type": "execute_result"
    }
   ],
   "source": [
    "# Generate table for easy view of scores\n",
    "scores_df = pd.DataFrame(zip(names,r2, rmse), columns=['regressor', 'Accuracy', 'RMSE_Score'])\n",
    "scores_df.sort_values(by=['Accuracy', 'RMSE_Score'], ascending=[False,True])"
   ]
  },
  {
   "cell_type": "markdown",
   "id": "9fb134aa",
   "metadata": {},
   "source": [
    "####  g. Select the best pipe"
   ]
  },
  {
   "cell_type": "code",
   "execution_count": 95,
   "id": "1b003017",
   "metadata": {},
   "outputs": [],
   "source": [
    "# Apply again same steps with best pipe which is XGBRegressor\n",
    "bestPipe = Pipeline([\n",
    "        (\"scaler\",RobustScaler()),\n",
    "        ('feature_selection', SelectFromModel(RandomForestRegressor(n_estimators=100))),\n",
    "        (\"regressor\",XGBRegressor(learning_rate= 0.1)),\n",
    "    ])\n",
    "bestPipe.fit(X_train, y_train)\n",
    "Y_pred = bestPipe.predict(X_test)"
   ]
  },
  {
   "cell_type": "code",
   "execution_count": 96,
   "id": "bced9dfe",
   "metadata": {},
   "outputs": [
    {
     "data": {
      "text/plain": [
       "Text(0.5, 1.0, 'XGBRegressor')"
      ]
     },
     "execution_count": 96,
     "metadata": {},
     "output_type": "execute_result"
    },
    {
     "data": {
      "image/png": "[encoded data removed]",
      "text/plain": [
       "<Figure size 640x480 with 1 Axes>"
      ]
     },
     "metadata": {},
     "output_type": "display_data"
    }
   ],
   "source": [
    "# Generate plot for actual vs predicted values\n",
    "plt.scatter(Y_pred, y_test, alpha=.7, color='b') \n",
    "plt.xlabel('Predicted ')\n",
    "plt.ylabel('Actual ')\n",
    "plt.title('XGBRegressor')"
   ]
  },
  {
   "cell_type": "code",
   "execution_count": null,
   "id": "14b6b70f",
   "metadata": {},
   "outputs": [],
   "source": []
  }
 ],
 "metadata": {
  "kernelspec": {
   "display_name": "Python 3 (ipykernel)",
   "language": "python",
   "name": "python3"
  },
  "language_info": {
   "codemirror_mode": {
    "name": "ipython",
    "version": 3
   },
   "file_extension": ".py",
   "mimetype": "text/x-python",
   "name": "python",
   "nbconvert_exporter": "python",
   "pygments_lexer": "ipython3",
   "version": "3.10.11"
  }
 },
 "nbformat": 4,
 "nbformat_minor": 5
}
