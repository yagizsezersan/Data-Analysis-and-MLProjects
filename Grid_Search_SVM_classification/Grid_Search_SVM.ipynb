{
 "cells": [
  {
   "cell_type": "markdown",
   "id": "b1f9cfad",
   "metadata": {},
   "source": [
    "# Grid Search for different SVM classification algorithm\n",
    "#### Name: YAGIZ SEZERSAN\n"
   ]
  },
  {
   "cell_type": "markdown",
   "id": "92fea630",
   "metadata": {},
   "source": [
    "#### a. Load the python library and read the data"
   ]
  },
  {
   "cell_type": "code",
   "execution_count": 450,
   "id": "167623f8",
   "metadata": {},
   "outputs": [],
   "source": [
    "# Necessary libraries for Lab3\n",
    "import numpy as np\n",
    "import pandas as pd\n",
    "import matplotlib.pyplot as plt\n",
    "import seaborn as sns\n",
    "from scipy.stats import norm\n",
    "\n",
    "%matplotlib inline\n",
    "\n",
    "from sklearn.feature_selection import VarianceThreshold\n",
    "from sklearn.feature_selection import SelectKBest\n",
    "from sklearn.feature_selection import f_regression\n",
    "from sklearn.preprocessing import LabelEncoder\n",
    "from sklearn.preprocessing import StandardScaler, MinMaxScaler, RobustScaler\n",
    "from sklearn.model_selection import train_test_split\n",
    "\n",
    "from sklearn.preprocessing import PolynomialFeatures\n",
    "from sklearn.metrics import mean_squared_error,r2_score\n",
    "from sklearn.linear_model import LogisticRegression\n",
    "from sklearn.metrics import confusion_matrix\n",
    "from sklearn.metrics import classification_report\n",
    "from sklearn.feature_selection import SelectFromModel\n",
    "from sklearn.metrics import roc_auc_score\n",
    "from sklearn.metrics import roc_curve\n",
    "from sklearn.svm import LinearSVC, SVC\n",
    "from sklearn.naive_bayes import GaussianNB\n",
    "from sklearn.metrics import accuracy_score, log_loss\n",
    "\n",
    "from sklearn.model_selection import cross_val_score\n",
    "from sklearn.model_selection import GridSearchCV\n",
    "from sklearn.pipeline import Pipeline"
   ]
  },
  {
   "cell_type": "code",
   "execution_count": 451,
   "id": "08a59226",
   "metadata": {},
   "outputs": [
    {
     "data": {
      "text/html": [
       "<div>\n",
       "<style scoped>\n",
       "    .dataframe tbody tr th:only-of-type {\n",
       "        vertical-align: middle;\n",
       "    }\n",
       "\n",
       "    .dataframe tbody tr th {\n",
       "        vertical-align: top;\n",
       "    }\n",
       "\n",
       "    .dataframe thead th {\n",
       "        text-align: right;\n",
       "    }\n",
       "</style>\n",
       "<table border=\"1\" class=\"dataframe\">\n",
       "  <thead>\n",
       "    <tr style=\"text-align: right;\">\n",
       "      <th></th>\n",
       "      <th>age</th>\n",
       "      <th>workclass</th>\n",
       "      <th>fnlwgt</th>\n",
       "      <th>education</th>\n",
       "      <th>education-num</th>\n",
       "      <th>marital-status</th>\n",
       "      <th>occupation</th>\n",
       "      <th>relationship</th>\n",
       "      <th>race</th>\n",
       "      <th>sex</th>\n",
       "      <th>capital-gain</th>\n",
       "      <th>capital-loss</th>\n",
       "      <th>hours-per-week</th>\n",
       "      <th>native-country</th>\n",
       "      <th>salary</th>\n",
       "    </tr>\n",
       "  </thead>\n",
       "  <tbody>\n",
       "    <tr>\n",
       "      <th>0</th>\n",
       "      <td>39.0</td>\n",
       "      <td>State-gov</td>\n",
       "      <td>77516.0</td>\n",
       "      <td>Bachelors</td>\n",
       "      <td>13.0</td>\n",
       "      <td>Never-married</td>\n",
       "      <td>Adm-clerical</td>\n",
       "      <td>Not-in-family</td>\n",
       "      <td>White</td>\n",
       "      <td>Male</td>\n",
       "      <td>2174.0</td>\n",
       "      <td>0.0</td>\n",
       "      <td>40.0</td>\n",
       "      <td>United-States</td>\n",
       "      <td>&lt;=50K</td>\n",
       "    </tr>\n",
       "    <tr>\n",
       "      <th>1</th>\n",
       "      <td>50.0</td>\n",
       "      <td>Self-emp-not-inc</td>\n",
       "      <td>83311.0</td>\n",
       "      <td>Bachelors</td>\n",
       "      <td>13.0</td>\n",
       "      <td>Married-civ-spouse</td>\n",
       "      <td>Exec-managerial</td>\n",
       "      <td>Husband</td>\n",
       "      <td>White</td>\n",
       "      <td>Male</td>\n",
       "      <td>0.0</td>\n",
       "      <td>0.0</td>\n",
       "      <td>13.0</td>\n",
       "      <td>United-States</td>\n",
       "      <td>&lt;=50K</td>\n",
       "    </tr>\n",
       "    <tr>\n",
       "      <th>2</th>\n",
       "      <td>38.0</td>\n",
       "      <td>Private</td>\n",
       "      <td>215646.0</td>\n",
       "      <td>HS-grad</td>\n",
       "      <td>9.0</td>\n",
       "      <td>Divorced</td>\n",
       "      <td>Handlers-cleaners</td>\n",
       "      <td>Not-in-family</td>\n",
       "      <td>White</td>\n",
       "      <td>Male</td>\n",
       "      <td>0.0</td>\n",
       "      <td>0.0</td>\n",
       "      <td>40.0</td>\n",
       "      <td>United-States</td>\n",
       "      <td>&lt;=50K</td>\n",
       "    </tr>\n",
       "    <tr>\n",
       "      <th>3</th>\n",
       "      <td>53.0</td>\n",
       "      <td>Private</td>\n",
       "      <td>234721.0</td>\n",
       "      <td>11th</td>\n",
       "      <td>7.0</td>\n",
       "      <td>Married-civ-spouse</td>\n",
       "      <td>Handlers-cleaners</td>\n",
       "      <td>Husband</td>\n",
       "      <td>Black</td>\n",
       "      <td>Male</td>\n",
       "      <td>0.0</td>\n",
       "      <td>0.0</td>\n",
       "      <td>40.0</td>\n",
       "      <td>United-States</td>\n",
       "      <td>&lt;=50K</td>\n",
       "    </tr>\n",
       "    <tr>\n",
       "      <th>4</th>\n",
       "      <td>28.0</td>\n",
       "      <td>Private</td>\n",
       "      <td>338409.0</td>\n",
       "      <td>Bachelors</td>\n",
       "      <td>13.0</td>\n",
       "      <td>Married-civ-spouse</td>\n",
       "      <td>Prof-specialty</td>\n",
       "      <td>Wife</td>\n",
       "      <td>Black</td>\n",
       "      <td>Female</td>\n",
       "      <td>0.0</td>\n",
       "      <td>0.0</td>\n",
       "      <td>40.0</td>\n",
       "      <td>Cuba</td>\n",
       "      <td>&lt;=50K</td>\n",
       "    </tr>\n",
       "  </tbody>\n",
       "</table>\n",
       "</div>"
      ],
      "text/plain": [
       "    age         workclass    fnlwgt  education  education-num  \\\n",
       "0  39.0         State-gov   77516.0  Bachelors           13.0   \n",
       "1  50.0  Self-emp-not-inc   83311.0  Bachelors           13.0   \n",
       "2  38.0           Private  215646.0    HS-grad            9.0   \n",
       "3  53.0           Private  234721.0       11th            7.0   \n",
       "4  28.0           Private  338409.0  Bachelors           13.0   \n",
       "\n",
       "       marital-status         occupation   relationship   race     sex  \\\n",
       "0       Never-married       Adm-clerical  Not-in-family  White    Male   \n",
       "1  Married-civ-spouse    Exec-managerial        Husband  White    Male   \n",
       "2            Divorced  Handlers-cleaners  Not-in-family  White    Male   \n",
       "3  Married-civ-spouse  Handlers-cleaners        Husband  Black    Male   \n",
       "4  Married-civ-spouse     Prof-specialty           Wife  Black  Female   \n",
       "\n",
       "   capital-gain  capital-loss  hours-per-week native-country salary  \n",
       "0        2174.0           0.0            40.0  United-States  <=50K  \n",
       "1           0.0           0.0            13.0  United-States  <=50K  \n",
       "2           0.0           0.0            40.0  United-States  <=50K  \n",
       "3           0.0           0.0            40.0  United-States  <=50K  \n",
       "4           0.0           0.0            40.0           Cuba  <=50K  "
      ]
     },
     "execution_count": 451,
     "metadata": {},
     "output_type": "execute_result"
    }
   ],
   "source": [
    "# Import csv file\n",
    "df = pd.read_csv('salary.csv')\n",
    "\n",
    "# Display the first few rows of dataset\n",
    "df.head()"
   ]
  },
  {
   "cell_type": "code",
   "execution_count": 452,
   "id": "0047220a",
   "metadata": {},
   "outputs": [
    {
     "name": "stdout",
     "output_type": "stream",
     "text": [
      "<class 'pandas.core.frame.DataFrame'>\n",
      "RangeIndex: 53726 entries, 0 to 53725\n",
      "Data columns (total 15 columns):\n",
      " #   Column          Non-Null Count  Dtype  \n",
      "---  ------          --------------  -----  \n",
      " 0   age             51108 non-null  float64\n",
      " 1   workclass       48200 non-null  object \n",
      " 2   fnlwgt          51082 non-null  float64\n",
      " 3   education       51126 non-null  object \n",
      " 4   education-num   51090 non-null  float64\n",
      " 5   marital-status  51116 non-null  object \n",
      " 6   occupation      48173 non-null  object \n",
      " 7   relationship    51102 non-null  object \n",
      " 8   race            51117 non-null  object \n",
      " 9   sex             51148 non-null  object \n",
      " 10  capital-gain    51083 non-null  float64\n",
      " 11  capital-loss    51095 non-null  float64\n",
      " 12  hours-per-week  51234 non-null  float64\n",
      " 13  native-country  50250 non-null  object \n",
      " 14  salary          51114 non-null  object \n",
      "dtypes: float64(6), object(9)\n",
      "memory usage: 6.1+ MB\n"
     ]
    }
   ],
   "source": [
    "# Display the column information\n",
    "df.info()"
   ]
  },
  {
   "cell_type": "code",
   "execution_count": 453,
   "id": "e2b3019e",
   "metadata": {
    "scrolled": true
   },
   "outputs": [
    {
     "name": "stdout",
     "output_type": "stream",
     "text": [
      "age               float64\n",
      "workclass          object\n",
      "fnlwgt            float64\n",
      "education          object\n",
      "education-num     float64\n",
      "marital-status     object\n",
      "occupation         object\n",
      "relationship       object\n",
      "race               object\n",
      "sex                object\n",
      "capital-gain      float64\n",
      "capital-loss      float64\n",
      "hours-per-week    float64\n",
      "native-country     object\n",
      "salary             object\n",
      "dtype: object\n"
     ]
    }
   ],
   "source": [
    "# Summary the datatypes\n",
    "print(df.dtypes)"
   ]
  },
  {
   "cell_type": "code",
   "execution_count": 454,
   "id": "0b7b1a74",
   "metadata": {},
   "outputs": [
    {
     "data": {
      "text/html": [
       "<div>\n",
       "<style scoped>\n",
       "    .dataframe tbody tr th:only-of-type {\n",
       "        vertical-align: middle;\n",
       "    }\n",
       "\n",
       "    .dataframe tbody tr th {\n",
       "        vertical-align: top;\n",
       "    }\n",
       "\n",
       "    .dataframe thead th {\n",
       "        text-align: right;\n",
       "    }\n",
       "</style>\n",
       "<table border=\"1\" class=\"dataframe\">\n",
       "  <thead>\n",
       "    <tr style=\"text-align: right;\">\n",
       "      <th></th>\n",
       "      <th>age</th>\n",
       "      <th>fnlwgt</th>\n",
       "      <th>education-num</th>\n",
       "      <th>capital-gain</th>\n",
       "      <th>capital-loss</th>\n",
       "      <th>hours-per-week</th>\n",
       "    </tr>\n",
       "  </thead>\n",
       "  <tbody>\n",
       "    <tr>\n",
       "      <th>count</th>\n",
       "      <td>51108.000000</td>\n",
       "      <td>5.108200e+04</td>\n",
       "      <td>51090.000000</td>\n",
       "      <td>51083.000000</td>\n",
       "      <td>51095.000000</td>\n",
       "      <td>51234.000000</td>\n",
       "    </tr>\n",
       "    <tr>\n",
       "      <th>mean</th>\n",
       "      <td>38.635400</td>\n",
       "      <td>1.897206e+05</td>\n",
       "      <td>10.080251</td>\n",
       "      <td>1076.979837</td>\n",
       "      <td>87.289520</td>\n",
       "      <td>40.422532</td>\n",
       "    </tr>\n",
       "    <tr>\n",
       "      <th>std</th>\n",
       "      <td>13.701936</td>\n",
       "      <td>1.056572e+05</td>\n",
       "      <td>2.573057</td>\n",
       "      <td>7436.205892</td>\n",
       "      <td>402.337309</td>\n",
       "      <td>12.384534</td>\n",
       "    </tr>\n",
       "    <tr>\n",
       "      <th>min</th>\n",
       "      <td>17.000000</td>\n",
       "      <td>1.228500e+04</td>\n",
       "      <td>1.000000</td>\n",
       "      <td>0.000000</td>\n",
       "      <td>0.000000</td>\n",
       "      <td>1.000000</td>\n",
       "    </tr>\n",
       "    <tr>\n",
       "      <th>25%</th>\n",
       "      <td>28.000000</td>\n",
       "      <td>1.175280e+05</td>\n",
       "      <td>9.000000</td>\n",
       "      <td>0.000000</td>\n",
       "      <td>0.000000</td>\n",
       "      <td>40.000000</td>\n",
       "    </tr>\n",
       "    <tr>\n",
       "      <th>50%</th>\n",
       "      <td>37.000000</td>\n",
       "      <td>1.781000e+05</td>\n",
       "      <td>10.000000</td>\n",
       "      <td>0.000000</td>\n",
       "      <td>0.000000</td>\n",
       "      <td>40.000000</td>\n",
       "    </tr>\n",
       "    <tr>\n",
       "      <th>75%</th>\n",
       "      <td>48.000000</td>\n",
       "      <td>2.377130e+05</td>\n",
       "      <td>12.000000</td>\n",
       "      <td>0.000000</td>\n",
       "      <td>0.000000</td>\n",
       "      <td>45.000000</td>\n",
       "    </tr>\n",
       "    <tr>\n",
       "      <th>max</th>\n",
       "      <td>90.000000</td>\n",
       "      <td>1.490400e+06</td>\n",
       "      <td>16.000000</td>\n",
       "      <td>99999.000000</td>\n",
       "      <td>4356.000000</td>\n",
       "      <td>99.000000</td>\n",
       "    </tr>\n",
       "  </tbody>\n",
       "</table>\n",
       "</div>"
      ],
      "text/plain": [
       "                age        fnlwgt  education-num  capital-gain  capital-loss  \\\n",
       "count  51108.000000  5.108200e+04   51090.000000  51083.000000  51095.000000   \n",
       "mean      38.635400  1.897206e+05      10.080251   1076.979837     87.289520   \n",
       "std       13.701936  1.056572e+05       2.573057   7436.205892    402.337309   \n",
       "min       17.000000  1.228500e+04       1.000000      0.000000      0.000000   \n",
       "25%       28.000000  1.175280e+05       9.000000      0.000000      0.000000   \n",
       "50%       37.000000  1.781000e+05      10.000000      0.000000      0.000000   \n",
       "75%       48.000000  2.377130e+05      12.000000      0.000000      0.000000   \n",
       "max       90.000000  1.490400e+06      16.000000  99999.000000   4356.000000   \n",
       "\n",
       "       hours-per-week  \n",
       "count    51234.000000  \n",
       "mean        40.422532  \n",
       "std         12.384534  \n",
       "min          1.000000  \n",
       "25%         40.000000  \n",
       "50%         40.000000  \n",
       "75%         45.000000  \n",
       "max         99.000000  "
      ]
     },
     "execution_count": 454,
     "metadata": {},
     "output_type": "execute_result"
    }
   ],
   "source": [
    "# Describe the data\n",
    "df.describe()"
   ]
  },
  {
   "cell_type": "markdown",
   "id": "c7155269",
   "metadata": {},
   "source": [
    "#### b. Drop the unneeded data"
   ]
  },
  {
   "cell_type": "code",
   "execution_count": 455,
   "id": "55185bb1",
   "metadata": {
    "scrolled": true
   },
   "outputs": [
    {
     "data": {
      "text/plain": [
       "age               2618\n",
       "workclass         5526\n",
       "fnlwgt            2644\n",
       "education         2600\n",
       "education-num     2636\n",
       "marital-status    2610\n",
       "occupation        5553\n",
       "relationship      2624\n",
       "race              2609\n",
       "sex               2578\n",
       "capital-gain      2643\n",
       "capital-loss      2631\n",
       "hours-per-week    2492\n",
       "native-country    3476\n",
       "salary            2612\n",
       "dtype: int64"
      ]
     },
     "execution_count": 455,
     "metadata": {},
     "output_type": "execute_result"
    }
   ],
   "source": [
    "# First we need to see how many null values we have as per column\n",
    "df.isnull().sum()"
   ]
  },
  {
   "cell_type": "code",
   "execution_count": 456,
   "id": "e700913e",
   "metadata": {},
   "outputs": [
    {
     "data": {
      "text/plain": [
       "0"
      ]
     },
     "execution_count": 456,
     "metadata": {},
     "output_type": "execute_result"
    }
   ],
   "source": [
    "# Drop if there is any null\n",
    "df.dropna(inplace=True)\n",
    "df.isnull().sum().sum()"
   ]
  },
  {
   "cell_type": "code",
   "execution_count": 457,
   "id": "388511d3",
   "metadata": {},
   "outputs": [
    {
     "name": "stdout",
     "output_type": "stream",
     "text": [
      "<class 'pandas.core.frame.DataFrame'>\n",
      "Int64Index: 45222 entries, 0 to 48841\n",
      "Data columns (total 15 columns):\n",
      " #   Column          Non-Null Count  Dtype  \n",
      "---  ------          --------------  -----  \n",
      " 0   age             45222 non-null  float64\n",
      " 1   workclass       45222 non-null  object \n",
      " 2   fnlwgt          45222 non-null  float64\n",
      " 3   education       45222 non-null  object \n",
      " 4   education-num   45222 non-null  float64\n",
      " 5   marital-status  45222 non-null  object \n",
      " 6   occupation      45222 non-null  object \n",
      " 7   relationship    45222 non-null  object \n",
      " 8   race            45222 non-null  object \n",
      " 9   sex             45222 non-null  object \n",
      " 10  capital-gain    45222 non-null  float64\n",
      " 11  capital-loss    45222 non-null  float64\n",
      " 12  hours-per-week  45222 non-null  float64\n",
      " 13  native-country  45222 non-null  object \n",
      " 14  salary          45222 non-null  object \n",
      "dtypes: float64(6), object(9)\n",
      "memory usage: 5.5+ MB\n"
     ]
    },
    {
     "data": {
      "text/plain": [
       "age               0\n",
       "workclass         0\n",
       "fnlwgt            0\n",
       "education         0\n",
       "education-num     0\n",
       "marital-status    0\n",
       "occupation        0\n",
       "relationship      0\n",
       "race              0\n",
       "sex               0\n",
       "capital-gain      0\n",
       "capital-loss      0\n",
       "hours-per-week    0\n",
       "native-country    0\n",
       "salary            0\n",
       "dtype: int64"
      ]
     },
     "execution_count": 457,
     "metadata": {},
     "output_type": "execute_result"
    }
   ],
   "source": [
    "df.info()\n",
    "#below code proves that there are no any null values anymore\n",
    "df.isnull().sum()"
   ]
  },
  {
   "cell_type": "markdown",
   "id": "ac4bdff5",
   "metadata": {},
   "source": [
    "#### C. Create a new column"
   ]
  },
  {
   "cell_type": "code",
   "execution_count": 458,
   "id": "7aafb910",
   "metadata": {},
   "outputs": [
    {
     "data": {
      "text/plain": [
       "<Axes: >"
      ]
     },
     "execution_count": 458,
     "metadata": {},
     "output_type": "execute_result"
    },
    {
     "data": {
      "image/png": "[encoded data removed]",
      "text/plain": [
       "<Figure size 640x480 with 1 Axes>"
      ]
     },
     "metadata": {},
     "output_type": "display_data"
    }
   ],
   "source": [
    "# Check unique values for salary columns\n",
    "df.salary.value_counts().plot(kind='bar', color=list('bygr'))"
   ]
  },
  {
   "cell_type": "code",
   "execution_count": 459,
   "id": "2ea991c3",
   "metadata": {},
   "outputs": [],
   "source": [
    "# Seems there is duplicate values with ending dot(.)\n",
    "# Normally there should be only two values as less than 50 or more than it\n",
    "# First dot(.) indication should be deleted\n",
    "df.salary = df.salary.str.replace(\".\",\"\",regex=False)"
   ]
  },
  {
   "cell_type": "code",
   "execution_count": 460,
   "id": "e957a643",
   "metadata": {},
   "outputs": [
    {
     "name": "stdout",
     "output_type": "stream",
     "text": [
      "2\n"
     ]
    },
    {
     "data": {
      "text/plain": [
       "<=50K    34014\n",
       ">50K     11208\n",
       "Name: salary, dtype: int64"
      ]
     },
     "execution_count": 460,
     "metadata": {},
     "output_type": "execute_result"
    }
   ],
   "source": [
    "# Now there are only two values\n",
    "print(df.salary.nunique())\n",
    "df.salary.value_counts()"
   ]
  },
  {
   "cell_type": "code",
   "execution_count": 461,
   "id": "3875d417",
   "metadata": {},
   "outputs": [],
   "source": [
    "# Use Label Encoder to transfrom salary columns as 0 and 1 for classification\n",
    "df = df.sample(random_state=1, frac=1).reset_index(drop=True)\n",
    "gle = LabelEncoder()\n",
    "gen_label = gle.fit_transform(df.salary)\n",
    "gen_mapping = {index: label for index, label in enumerate(gle.classes_)}\n",
    "\n",
    "# Create the 'salary_less50K' column as yes or no\n",
    "#df['salary_less50K'] = gen_label\n",
    "df['salary_less50K'] = ['yes' if label == 0 else 'no' for label in gen_label]"
   ]
  },
  {
   "cell_type": "code",
   "execution_count": 462,
   "id": "271e7a4f",
   "metadata": {},
   "outputs": [
    {
     "data": {
      "text/html": [
       "<div>\n",
       "<style scoped>\n",
       "    .dataframe tbody tr th:only-of-type {\n",
       "        vertical-align: middle;\n",
       "    }\n",
       "\n",
       "    .dataframe tbody tr th {\n",
       "        vertical-align: top;\n",
       "    }\n",
       "\n",
       "    .dataframe thead th {\n",
       "        text-align: right;\n",
       "    }\n",
       "</style>\n",
       "<table border=\"1\" class=\"dataframe\">\n",
       "  <thead>\n",
       "    <tr style=\"text-align: right;\">\n",
       "      <th></th>\n",
       "      <th>age</th>\n",
       "      <th>workclass</th>\n",
       "      <th>fnlwgt</th>\n",
       "      <th>education</th>\n",
       "      <th>education-num</th>\n",
       "      <th>marital-status</th>\n",
       "      <th>occupation</th>\n",
       "      <th>relationship</th>\n",
       "      <th>race</th>\n",
       "      <th>sex</th>\n",
       "      <th>capital-gain</th>\n",
       "      <th>capital-loss</th>\n",
       "      <th>hours-per-week</th>\n",
       "      <th>native-country</th>\n",
       "      <th>salary</th>\n",
       "      <th>salary_less50K</th>\n",
       "    </tr>\n",
       "  </thead>\n",
       "  <tbody>\n",
       "    <tr>\n",
       "      <th>0</th>\n",
       "      <td>52.0</td>\n",
       "      <td>Private</td>\n",
       "      <td>187938.0</td>\n",
       "      <td>Some-college</td>\n",
       "      <td>10.0</td>\n",
       "      <td>Divorced</td>\n",
       "      <td>Sales</td>\n",
       "      <td>Not-in-family</td>\n",
       "      <td>White</td>\n",
       "      <td>Female</td>\n",
       "      <td>0.0</td>\n",
       "      <td>0.0</td>\n",
       "      <td>49.0</td>\n",
       "      <td>United-States</td>\n",
       "      <td>&lt;=50K</td>\n",
       "      <td>yes</td>\n",
       "    </tr>\n",
       "    <tr>\n",
       "      <th>1</th>\n",
       "      <td>43.0</td>\n",
       "      <td>Private</td>\n",
       "      <td>169628.0</td>\n",
       "      <td>Bachelors</td>\n",
       "      <td>13.0</td>\n",
       "      <td>Never-married</td>\n",
       "      <td>Sales</td>\n",
       "      <td>Unmarried</td>\n",
       "      <td>Black</td>\n",
       "      <td>Female</td>\n",
       "      <td>0.0</td>\n",
       "      <td>0.0</td>\n",
       "      <td>35.0</td>\n",
       "      <td>United-States</td>\n",
       "      <td>&gt;50K</td>\n",
       "      <td>no</td>\n",
       "    </tr>\n",
       "    <tr>\n",
       "      <th>2</th>\n",
       "      <td>43.0</td>\n",
       "      <td>Self-emp-not-inc</td>\n",
       "      <td>89636.0</td>\n",
       "      <td>Bachelors</td>\n",
       "      <td>13.0</td>\n",
       "      <td>Married-civ-spouse</td>\n",
       "      <td>Sales</td>\n",
       "      <td>Wife</td>\n",
       "      <td>Asian-Pac-Islander</td>\n",
       "      <td>Female</td>\n",
       "      <td>0.0</td>\n",
       "      <td>0.0</td>\n",
       "      <td>60.0</td>\n",
       "      <td>South</td>\n",
       "      <td>&lt;=50K</td>\n",
       "      <td>yes</td>\n",
       "    </tr>\n",
       "    <tr>\n",
       "      <th>3</th>\n",
       "      <td>32.0</td>\n",
       "      <td>Private</td>\n",
       "      <td>123291.0</td>\n",
       "      <td>12th</td>\n",
       "      <td>8.0</td>\n",
       "      <td>Married-civ-spouse</td>\n",
       "      <td>Machine-op-inspct</td>\n",
       "      <td>Husband</td>\n",
       "      <td>White</td>\n",
       "      <td>Male</td>\n",
       "      <td>0.0</td>\n",
       "      <td>0.0</td>\n",
       "      <td>40.0</td>\n",
       "      <td>United-States</td>\n",
       "      <td>&lt;=50K</td>\n",
       "      <td>yes</td>\n",
       "    </tr>\n",
       "    <tr>\n",
       "      <th>4</th>\n",
       "      <td>32.0</td>\n",
       "      <td>Private</td>\n",
       "      <td>51150.0</td>\n",
       "      <td>12th</td>\n",
       "      <td>8.0</td>\n",
       "      <td>Married-civ-spouse</td>\n",
       "      <td>Other-service</td>\n",
       "      <td>Wife</td>\n",
       "      <td>White</td>\n",
       "      <td>Female</td>\n",
       "      <td>0.0</td>\n",
       "      <td>0.0</td>\n",
       "      <td>40.0</td>\n",
       "      <td>United-States</td>\n",
       "      <td>&lt;=50K</td>\n",
       "      <td>yes</td>\n",
       "    </tr>\n",
       "  </tbody>\n",
       "</table>\n",
       "</div>"
      ],
      "text/plain": [
       "    age         workclass    fnlwgt     education  education-num  \\\n",
       "0  52.0           Private  187938.0  Some-college           10.0   \n",
       "1  43.0           Private  169628.0     Bachelors           13.0   \n",
       "2  43.0  Self-emp-not-inc   89636.0     Bachelors           13.0   \n",
       "3  32.0           Private  123291.0          12th            8.0   \n",
       "4  32.0           Private   51150.0          12th            8.0   \n",
       "\n",
       "       marital-status         occupation   relationship                race  \\\n",
       "0            Divorced              Sales  Not-in-family               White   \n",
       "1       Never-married              Sales      Unmarried               Black   \n",
       "2  Married-civ-spouse              Sales           Wife  Asian-Pac-Islander   \n",
       "3  Married-civ-spouse  Machine-op-inspct        Husband               White   \n",
       "4  Married-civ-spouse      Other-service           Wife               White   \n",
       "\n",
       "      sex  capital-gain  capital-loss  hours-per-week native-country salary  \\\n",
       "0  Female           0.0           0.0            49.0  United-States  <=50K   \n",
       "1  Female           0.0           0.0            35.0  United-States   >50K   \n",
       "2  Female           0.0           0.0            60.0          South  <=50K   \n",
       "3    Male           0.0           0.0            40.0  United-States  <=50K   \n",
       "4  Female           0.0           0.0            40.0  United-States  <=50K   \n",
       "\n",
       "  salary_less50K  \n",
       "0            yes  \n",
       "1             no  \n",
       "2            yes  \n",
       "3            yes  \n",
       "4            yes  "
      ]
     },
     "execution_count": 462,
     "metadata": {},
     "output_type": "execute_result"
    }
   ],
   "source": [
    "# To confirm if encoding is done\n",
    "df.head()"
   ]
  },
  {
   "cell_type": "code",
   "execution_count": 463,
   "id": "83f404e9",
   "metadata": {},
   "outputs": [],
   "source": [
    "# Drop previous parameter\n",
    "df.drop(['salary'], axis = 1 , inplace = True)"
   ]
  },
  {
   "cell_type": "markdown",
   "id": "b04183d9",
   "metadata": {},
   "source": [
    "#### d. Modify column name and categorical content"
   ]
  },
  {
   "cell_type": "code",
   "execution_count": 464,
   "id": "1263b508",
   "metadata": {},
   "outputs": [
    {
     "name": "stdout",
     "output_type": "stream",
     "text": [
      "<class 'pandas.core.frame.DataFrame'>\n",
      "RangeIndex: 45222 entries, 0 to 45221\n",
      "Data columns (total 15 columns):\n",
      " #   Column          Non-Null Count  Dtype  \n",
      "---  ------          --------------  -----  \n",
      " 0   age             45222 non-null  float64\n",
      " 1   workclass       45222 non-null  object \n",
      " 2   fnlwgt          45222 non-null  float64\n",
      " 3   education       45222 non-null  object \n",
      " 4   education_num   45222 non-null  float64\n",
      " 5   marital_status  45222 non-null  object \n",
      " 6   occupation      45222 non-null  object \n",
      " 7   relationship    45222 non-null  object \n",
      " 8   race            45222 non-null  object \n",
      " 9   sex             45222 non-null  object \n",
      " 10  capital_gain    45222 non-null  float64\n",
      " 11  capital_loss    45222 non-null  float64\n",
      " 12  hours_per_week  45222 non-null  float64\n",
      " 13  native_country  45222 non-null  object \n",
      " 14  salary_less50K  45222 non-null  object \n",
      "dtypes: float64(6), object(9)\n",
      "memory usage: 5.2+ MB\n"
     ]
    }
   ],
   "source": [
    "# Update hypen as underscore for columns\n",
    "df.rename(columns=lambda x: x.replace(\"-\", \"_\"), inplace=True)\n",
    "\n",
    "# To confirm if rename is done\n",
    "df.info()"
   ]
  },
  {
   "cell_type": "code",
   "execution_count": 465,
   "id": "3c402628",
   "metadata": {},
   "outputs": [
    {
     "data": {
      "text/html": [
       "<div>\n",
       "<style scoped>\n",
       "    .dataframe tbody tr th:only-of-type {\n",
       "        vertical-align: middle;\n",
       "    }\n",
       "\n",
       "    .dataframe tbody tr th {\n",
       "        vertical-align: top;\n",
       "    }\n",
       "\n",
       "    .dataframe thead th {\n",
       "        text-align: right;\n",
       "    }\n",
       "</style>\n",
       "<table border=\"1\" class=\"dataframe\">\n",
       "  <thead>\n",
       "    <tr style=\"text-align: right;\">\n",
       "      <th></th>\n",
       "      <th>age</th>\n",
       "      <th>workclass</th>\n",
       "      <th>fnlwgt</th>\n",
       "      <th>education</th>\n",
       "      <th>education_num</th>\n",
       "      <th>marital_status</th>\n",
       "      <th>occupation</th>\n",
       "      <th>relationship</th>\n",
       "      <th>race</th>\n",
       "      <th>sex</th>\n",
       "      <th>capital_gain</th>\n",
       "      <th>capital_loss</th>\n",
       "      <th>hours_per_week</th>\n",
       "      <th>native_country</th>\n",
       "      <th>salary_less50K</th>\n",
       "    </tr>\n",
       "  </thead>\n",
       "  <tbody>\n",
       "    <tr>\n",
       "      <th>0</th>\n",
       "      <td>52.0</td>\n",
       "      <td>Private</td>\n",
       "      <td>187938.0</td>\n",
       "      <td>Some_college</td>\n",
       "      <td>10.0</td>\n",
       "      <td>Divorced</td>\n",
       "      <td>Sales</td>\n",
       "      <td>Not_in_family</td>\n",
       "      <td>White</td>\n",
       "      <td>Female</td>\n",
       "      <td>0.0</td>\n",
       "      <td>0.0</td>\n",
       "      <td>49.0</td>\n",
       "      <td>United_States</td>\n",
       "      <td>yes</td>\n",
       "    </tr>\n",
       "    <tr>\n",
       "      <th>1</th>\n",
       "      <td>43.0</td>\n",
       "      <td>Private</td>\n",
       "      <td>169628.0</td>\n",
       "      <td>Bachelors</td>\n",
       "      <td>13.0</td>\n",
       "      <td>Never_married</td>\n",
       "      <td>Sales</td>\n",
       "      <td>Unmarried</td>\n",
       "      <td>Black</td>\n",
       "      <td>Female</td>\n",
       "      <td>0.0</td>\n",
       "      <td>0.0</td>\n",
       "      <td>35.0</td>\n",
       "      <td>United_States</td>\n",
       "      <td>no</td>\n",
       "    </tr>\n",
       "    <tr>\n",
       "      <th>2</th>\n",
       "      <td>43.0</td>\n",
       "      <td>Self_emp_not_inc</td>\n",
       "      <td>89636.0</td>\n",
       "      <td>Bachelors</td>\n",
       "      <td>13.0</td>\n",
       "      <td>Married_civ_spouse</td>\n",
       "      <td>Sales</td>\n",
       "      <td>Wife</td>\n",
       "      <td>Asian_Pac_Islander</td>\n",
       "      <td>Female</td>\n",
       "      <td>0.0</td>\n",
       "      <td>0.0</td>\n",
       "      <td>60.0</td>\n",
       "      <td>South</td>\n",
       "      <td>yes</td>\n",
       "    </tr>\n",
       "    <tr>\n",
       "      <th>3</th>\n",
       "      <td>32.0</td>\n",
       "      <td>Private</td>\n",
       "      <td>123291.0</td>\n",
       "      <td>12th</td>\n",
       "      <td>8.0</td>\n",
       "      <td>Married_civ_spouse</td>\n",
       "      <td>Machine_op_inspct</td>\n",
       "      <td>Husband</td>\n",
       "      <td>White</td>\n",
       "      <td>Male</td>\n",
       "      <td>0.0</td>\n",
       "      <td>0.0</td>\n",
       "      <td>40.0</td>\n",
       "      <td>United_States</td>\n",
       "      <td>yes</td>\n",
       "    </tr>\n",
       "    <tr>\n",
       "      <th>4</th>\n",
       "      <td>32.0</td>\n",
       "      <td>Private</td>\n",
       "      <td>51150.0</td>\n",
       "      <td>12th</td>\n",
       "      <td>8.0</td>\n",
       "      <td>Married_civ_spouse</td>\n",
       "      <td>Other_service</td>\n",
       "      <td>Wife</td>\n",
       "      <td>White</td>\n",
       "      <td>Female</td>\n",
       "      <td>0.0</td>\n",
       "      <td>0.0</td>\n",
       "      <td>40.0</td>\n",
       "      <td>United_States</td>\n",
       "      <td>yes</td>\n",
       "    </tr>\n",
       "  </tbody>\n",
       "</table>\n",
       "</div>"
      ],
      "text/plain": [
       "    age         workclass    fnlwgt     education  education_num  \\\n",
       "0  52.0           Private  187938.0  Some_college           10.0   \n",
       "1  43.0           Private  169628.0     Bachelors           13.0   \n",
       "2  43.0  Self_emp_not_inc   89636.0     Bachelors           13.0   \n",
       "3  32.0           Private  123291.0          12th            8.0   \n",
       "4  32.0           Private   51150.0          12th            8.0   \n",
       "\n",
       "       marital_status         occupation   relationship                race  \\\n",
       "0            Divorced              Sales  Not_in_family               White   \n",
       "1       Never_married              Sales      Unmarried               Black   \n",
       "2  Married_civ_spouse              Sales           Wife  Asian_Pac_Islander   \n",
       "3  Married_civ_spouse  Machine_op_inspct        Husband               White   \n",
       "4  Married_civ_spouse      Other_service           Wife               White   \n",
       "\n",
       "      sex  capital_gain  capital_loss  hours_per_week native_country  \\\n",
       "0  Female           0.0           0.0            49.0  United_States   \n",
       "1  Female           0.0           0.0            35.0  United_States   \n",
       "2  Female           0.0           0.0            60.0          South   \n",
       "3    Male           0.0           0.0            40.0  United_States   \n",
       "4  Female           0.0           0.0            40.0  United_States   \n",
       "\n",
       "  salary_less50K  \n",
       "0            yes  \n",
       "1             no  \n",
       "2            yes  \n",
       "3            yes  \n",
       "4            yes  "
      ]
     },
     "execution_count": 465,
     "metadata": {},
     "output_type": "execute_result"
    }
   ],
   "source": [
    "# Apply lambda function for object columns\n",
    "# Update hypen as underscore for categorical columns and use applymap() changes on each element of DataFrame\n",
    "df.update(df.select_dtypes(include=object).applymap(lambda x: x.replace('-', '_')))\n",
    "\n",
    "# To confirm if rename is done\n",
    "df.head()"
   ]
  },
  {
   "cell_type": "markdown",
   "id": "25c64743",
   "metadata": {},
   "source": [
    "#### e. Reduce the number of unique values"
   ]
  },
  {
   "cell_type": "code",
   "execution_count": 466,
   "id": "ff4df4fc",
   "metadata": {},
   "outputs": [
    {
     "data": {
      "text/plain": [
       "workclass          7\n",
       "education         16\n",
       "marital_status     7\n",
       "occupation        14\n",
       "relationship       6\n",
       "race               5\n",
       "sex                2\n",
       "native_country    41\n",
       "salary_less50K     2\n",
       "dtype: int64"
      ]
     },
     "execution_count": 466,
     "metadata": {},
     "output_type": "execute_result"
    }
   ],
   "source": [
    "# Check unique values for object columns\n",
    "df.select_dtypes(include=object).apply(pd.Series.nunique)"
   ]
  },
  {
   "cell_type": "code",
   "execution_count": 467,
   "id": "2eda618c",
   "metadata": {},
   "outputs": [
    {
     "data": {
      "text/plain": [
       "United_States                 41292\n",
       "Mexico                          903\n",
       "Philippines                     283\n",
       "Germany                         193\n",
       "Puerto_Rico                     175\n",
       "Canada                          163\n",
       "India                           147\n",
       "El_Salvador                     147\n",
       "Cuba                            133\n",
       "England                         119\n",
       "China                           113\n",
       "Jamaica                         103\n",
       "South                           101\n",
       "Italy                           100\n",
       "Dominican_Republic               97\n",
       "Japan                            89\n",
       "Guatemala                        86\n",
       "Vietnam                          83\n",
       "Columbia                         82\n",
       "Poland                           81\n",
       "Haiti                            69\n",
       "Portugal                         62\n",
       "Iran                             56\n",
       "Taiwan                           55\n",
       "Greece                           49\n",
       "Nicaragua                        48\n",
       "Peru                             45\n",
       "Ecuador                          43\n",
       "Ireland                          36\n",
       "France                           36\n",
       "Thailand                         29\n",
       "Hong                             28\n",
       "Cambodia                         26\n",
       "Trinadad&Tobago                  26\n",
       "Yugoslavia                       23\n",
       "Outlying_US(Guam_USVI_etc)       22\n",
       "Laos                             21\n",
       "Scotland                         20\n",
       "Honduras                         19\n",
       "Hungary                          18\n",
       "Holand_Netherlands                1\n",
       "Name: native_country, dtype: int64"
      ]
     },
     "execution_count": 467,
     "metadata": {},
     "output_type": "execute_result"
    }
   ],
   "source": [
    "# Check unique values for native_country columns\n",
    "df.native_country.value_counts()"
   ]
  },
  {
   "cell_type": "code",
   "execution_count": 468,
   "id": "eb9f484f",
   "metadata": {},
   "outputs": [
    {
     "name": "stdout",
     "output_type": "stream",
     "text": [
      "2\n"
     ]
    },
    {
     "data": {
      "text/plain": [
       "United_States    41292\n",
       "Other_Country     3930\n",
       "Name: native_country, dtype: int64"
      ]
     },
     "execution_count": 468,
     "metadata": {},
     "output_type": "execute_result"
    }
   ],
   "source": [
    "# Seems there are too much unique values for native country\n",
    "# Replace values as other country except USA\n",
    "df.loc[df['native_country'] != 'United_States', 'native_country'] = 'Other_Country'\n",
    "\n",
    "# Now there are only two values\n",
    "print(df.native_country.nunique())\n",
    "df.native_country.value_counts()"
   ]
  },
  {
   "cell_type": "markdown",
   "id": "c1ae4c10",
   "metadata": {},
   "source": [
    "#### f. Drop columns"
   ]
  },
  {
   "cell_type": "code",
   "execution_count": 469,
   "id": "3b974a9d",
   "metadata": {},
   "outputs": [
    {
     "name": "stdout",
     "output_type": "stream",
     "text": [
      "capital_gain\n",
      "0.0        41432\n",
      "15024.0      498\n",
      "7688.0       391\n",
      "7298.0       351\n",
      "99999.0      229\n",
      "           ...  \n",
      "7262.0         1\n",
      "22040.0        1\n",
      "1639.0         1\n",
      "1731.0         1\n",
      "2387.0         1\n",
      "Name: capital_gain, Length: 121, dtype: int64\n",
      "capital_loss\n",
      "0.0       43082\n",
      "1902.0      294\n",
      "1977.0      246\n",
      "1887.0      228\n",
      "2415.0       68\n",
      "          ...  \n",
      "1421.0        1\n",
      "2080.0        1\n",
      "1911.0        1\n",
      "419.0         1\n",
      "2163.0        1\n",
      "Name: capital_loss, Length: 97, dtype: int64\n"
     ]
    }
   ],
   "source": [
    "# capital_gain and loss will be dropped since many data are zero\n",
    "print('capital_gain')\n",
    "print(df.capital_gain.value_counts())\n",
    "print('capital_loss')\n",
    "print(df.capital_loss.value_counts())"
   ]
  },
  {
   "cell_type": "code",
   "execution_count": 470,
   "id": "c997b64d",
   "metadata": {},
   "outputs": [],
   "source": [
    "# Drop step\n",
    "df.drop(['capital_gain','capital_loss'], axis = 1 , inplace = True)"
   ]
  },
  {
   "cell_type": "markdown",
   "id": "15dab1a9",
   "metadata": {},
   "source": [
    "#### g. Create dummy values for the dataframe"
   ]
  },
  {
   "cell_type": "code",
   "execution_count": 471,
   "id": "92234610",
   "metadata": {},
   "outputs": [
    {
     "data": {
      "text/plain": [
       "workclass          7\n",
       "education         16\n",
       "marital_status     7\n",
       "occupation        14\n",
       "relationship       6\n",
       "race               5\n",
       "sex                2\n",
       "native_country     2\n",
       "salary_less50K     2\n",
       "dtype: int64"
      ]
     },
     "execution_count": 471,
     "metadata": {},
     "output_type": "execute_result"
    }
   ],
   "source": [
    "# Check unique values for object columns\n",
    "df.select_dtypes(include=object).apply(pd.Series.nunique)"
   ]
  },
  {
   "cell_type": "code",
   "execution_count": 472,
   "id": "6e31a23b",
   "metadata": {},
   "outputs": [],
   "source": [
    "# Assign columns that you want to create dummy variables for object dtypes\n",
    "dummy_columns = ['workclass', 'education', 'marital_status','occupation','relationship',\n",
    "                 'race','sex','native_country','salary_less50K']\n",
    "dummy_features  = pd.get_dummies(df[dummy_columns], drop_first=True)"
   ]
  },
  {
   "cell_type": "code",
   "execution_count": 473,
   "id": "0552bdb4",
   "metadata": {},
   "outputs": [],
   "source": [
    "# Drop previous columns\n",
    "df.drop(df[dummy_columns],axis=1,inplace=True)"
   ]
  },
  {
   "cell_type": "code",
   "execution_count": 474,
   "id": "240e497b",
   "metadata": {
    "scrolled": true
   },
   "outputs": [
    {
     "name": "stdout",
     "output_type": "stream",
     "text": [
      "<class 'pandas.core.frame.DataFrame'>\n",
      "RangeIndex: 45222 entries, 0 to 45221\n",
      "Data columns (total 56 columns):\n",
      " #   Column                                Non-Null Count  Dtype  \n",
      "---  ------                                --------------  -----  \n",
      " 0   age                                   45222 non-null  float64\n",
      " 1   fnlwgt                                45222 non-null  float64\n",
      " 2   education_num                         45222 non-null  float64\n",
      " 3   hours_per_week                        45222 non-null  float64\n",
      " 4   workclass_Local_gov                   45222 non-null  uint8  \n",
      " 5   workclass_Private                     45222 non-null  uint8  \n",
      " 6   workclass_Self_emp_inc                45222 non-null  uint8  \n",
      " 7   workclass_Self_emp_not_inc            45222 non-null  uint8  \n",
      " 8   workclass_State_gov                   45222 non-null  uint8  \n",
      " 9   workclass_Without_pay                 45222 non-null  uint8  \n",
      " 10  education_11th                        45222 non-null  uint8  \n",
      " 11  education_12th                        45222 non-null  uint8  \n",
      " 12  education_1st_4th                     45222 non-null  uint8  \n",
      " 13  education_5th_6th                     45222 non-null  uint8  \n",
      " 14  education_7th_8th                     45222 non-null  uint8  \n",
      " 15  education_9th                         45222 non-null  uint8  \n",
      " 16  education_Assoc_acdm                  45222 non-null  uint8  \n",
      " 17  education_Assoc_voc                   45222 non-null  uint8  \n",
      " 18  education_Bachelors                   45222 non-null  uint8  \n",
      " 19  education_Doctorate                   45222 non-null  uint8  \n",
      " 20  education_HS_grad                     45222 non-null  uint8  \n",
      " 21  education_Masters                     45222 non-null  uint8  \n",
      " 22  education_Preschool                   45222 non-null  uint8  \n",
      " 23  education_Prof_school                 45222 non-null  uint8  \n",
      " 24  education_Some_college                45222 non-null  uint8  \n",
      " 25  marital_status_Married_AF_spouse      45222 non-null  uint8  \n",
      " 26  marital_status_Married_civ_spouse     45222 non-null  uint8  \n",
      " 27  marital_status_Married_spouse_absent  45222 non-null  uint8  \n",
      " 28  marital_status_Never_married          45222 non-null  uint8  \n",
      " 29  marital_status_Separated              45222 non-null  uint8  \n",
      " 30  marital_status_Widowed                45222 non-null  uint8  \n",
      " 31  occupation_Armed_Forces               45222 non-null  uint8  \n",
      " 32  occupation_Craft_repair               45222 non-null  uint8  \n",
      " 33  occupation_Exec_managerial            45222 non-null  uint8  \n",
      " 34  occupation_Farming_fishing            45222 non-null  uint8  \n",
      " 35  occupation_Handlers_cleaners          45222 non-null  uint8  \n",
      " 36  occupation_Machine_op_inspct          45222 non-null  uint8  \n",
      " 37  occupation_Other_service              45222 non-null  uint8  \n",
      " 38  occupation_Priv_house_serv            45222 non-null  uint8  \n",
      " 39  occupation_Prof_specialty             45222 non-null  uint8  \n",
      " 40  occupation_Protective_serv            45222 non-null  uint8  \n",
      " 41  occupation_Sales                      45222 non-null  uint8  \n",
      " 42  occupation_Tech_support               45222 non-null  uint8  \n",
      " 43  occupation_Transport_moving           45222 non-null  uint8  \n",
      " 44  relationship_Not_in_family            45222 non-null  uint8  \n",
      " 45  relationship_Other_relative           45222 non-null  uint8  \n",
      " 46  relationship_Own_child                45222 non-null  uint8  \n",
      " 47  relationship_Unmarried                45222 non-null  uint8  \n",
      " 48  relationship_Wife                     45222 non-null  uint8  \n",
      " 49  race_Asian_Pac_Islander               45222 non-null  uint8  \n",
      " 50  race_Black                            45222 non-null  uint8  \n",
      " 51  race_Other                            45222 non-null  uint8  \n",
      " 52  race_White                            45222 non-null  uint8  \n",
      " 53  sex_Male                              45222 non-null  uint8  \n",
      " 54  native_country_United_States          45222 non-null  uint8  \n",
      " 55  salary_less50K_yes                    45222 non-null  uint8  \n",
      "dtypes: float64(4), uint8(52)\n",
      "memory usage: 3.6 MB\n"
     ]
    }
   ],
   "source": [
    "# Combine original dataset with dummy one\n",
    "df2 = pd.concat([df, dummy_features], axis=1)\n",
    "df2.info()"
   ]
  },
  {
   "cell_type": "code",
   "execution_count": 475,
   "id": "a957340a",
   "metadata": {},
   "outputs": [],
   "source": [
    "# Rename salary for clear explanation of header\n",
    "df2.rename(columns={'salary_less50K_yes':'salary_less50K'}, inplace=True)"
   ]
  },
  {
   "cell_type": "code",
   "execution_count": 476,
   "id": "b14be8ff",
   "metadata": {},
   "outputs": [],
   "source": [
    "# Reset the index and ensure that the previous index has been not kept\n",
    "df2.reset_index(drop=True, inplace=True)\n",
    "\n",
    "# Save updated dataset and indicate index as False since we do not want to include index columns\n",
    "df2.to_csv('cleaned.csv', index=False)"
   ]
  },
  {
   "cell_type": "markdown",
   "id": "75987eed",
   "metadata": {},
   "source": [
    "#### h. Create a grid search with cross validation (GridSearchCV) of SVM classifier with the following options/settings:"
   ]
  },
  {
   "cell_type": "code",
   "execution_count": 477,
   "id": "6aab44c9",
   "metadata": {},
   "outputs": [],
   "source": [
    "# Apply test and train dataset\n",
    "target = df2.salary_less50K\n",
    "features = df2.drop('salary_less50K', axis=1)\n",
    "\n",
    "X_train, X_test, y_train, y_test = train_test_split(features, target, test_size=0.2, random_state=42,train_size=0.05)\n",
    "\n",
    "# First I apply Scaler for all dataset in Pipeline for next code cells \n",
    "# However, since most of columns are already transformed as 0 or 1, it does not make sense to scale them again\n",
    "# Thus, I chose to scale only for numerical that we did not create dummy values \n",
    "ss = StandardScaler()\n",
    "X_train[[\"age\",\"fnlwgt\",\"education_num\",\"hours_per_week\"]] = ss.fit_transform(X_train[[\"age\",\"fnlwgt\",\"education_num\",\"hours_per_week\"]])\n",
    "X_test[[\"age\",\"fnlwgt\",\"education_num\",\"hours_per_week\"]] = ss.transform(X_test[[\"age\",\"fnlwgt\",\"education_num\",\"hours_per_week\"]])"
   ]
  },
  {
   "cell_type": "code",
   "execution_count": 478,
   "id": "2c89d0af",
   "metadata": {},
   "outputs": [
    {
     "name": "stdout",
     "output_type": "stream",
     "text": [
      "\n",
      "Best parameters : {'svm__C': 1, 'svm__gamma': 0.1, 'svm__kernel': 'rbf'}\n",
      "Best model accuracy: 0.833707903429019\n"
     ]
    }
   ],
   "source": [
    "# GridSearchCV via using pipeline to apply estimator and SVC\n",
    "pipeline = Pipeline([\n",
    "    #('scaler', StandardScaler()), \n",
    "    ('feature_selection', SelectFromModel(estimator=LogisticRegression())), \n",
    "    ('svm', SVC(random_state=42))\n",
    "])\n",
    "\n",
    "# Define parameters for grid search\n",
    "grid_parameters = {\n",
    "    'svm__kernel': ['linear', 'rbf'],\n",
    "    'svm__gamma': [1, 0.1, 0.01],\n",
    "    'svm__C': [1, 10, 50]\n",
    "}\n",
    "\n",
    "# Perform grid search via cross-validation\n",
    "grid_search = GridSearchCV(pipeline, grid_parameters, cv=3,n_jobs =-1,scoring='accuracy')\n",
    "grid_search.fit(X_train, y_train)\n",
    "\n",
    "# Best model performance\n",
    "print(\"\\nBest parameters :\", grid_search.best_params_)\n",
    "print(\"Best model accuracy:\", grid_search.best_score_)"
   ]
  },
  {
   "cell_type": "markdown",
   "id": "d5fd6f02",
   "metadata": {},
   "source": [
    "#### i.  Provide the confusion matrix, classification report and analyze the precision/recall for the best model"
   ]
  },
  {
   "cell_type": "code",
   "execution_count": 479,
   "id": "186baccd",
   "metadata": {},
   "outputs": [
    {
     "name": "stdout",
     "output_type": "stream",
     "text": [
      "Confusion Matrix:\n",
      "[[1054 1129]\n",
      " [ 446 6416]]\n",
      "\n",
      "Confusion Matrix HeatMap:\n"
     ]
    },
    {
     "data": {
      "text/plain": [
       "<Axes: xlabel='Predicted', ylabel='Actual'>"
      ]
     },
     "execution_count": 479,
     "metadata": {},
     "output_type": "execute_result"
    },
    {
     "data": {
      "image/png": "[encoded data removed]",
      "text/plain": [
       "<Figure size 400x400 with 1 Axes>"
      ]
     },
     "metadata": {},
     "output_type": "display_data"
    }
   ],
   "source": [
    "# Get best model\n",
    "best_model = grid_search.best_estimator_\n",
    "\n",
    "# Predictions on the test data\n",
    "y_pred = best_model.predict(X_test)\n",
    "\n",
    "# Confusion matrix and classification report\n",
    "print(\"Confusion Matrix:\")\n",
    "cm = confusion_matrix(y_test, y_pred)\n",
    "print(cm)\n",
    "\n",
    "print(\"\\nConfusion Matrix HeatMap:\")\n",
    "df_cm = pd.DataFrame(cm, columns=np.unique(y_test), index = np.unique(y_test))\n",
    "df_cm.index.name = 'Actual'\n",
    "df_cm.columns.name = 'Predicted'\n",
    "plt.figure(figsize = (4,4))\n",
    "sns.heatmap(df_cm, annot=True, cbar=False, square=True, cmap=\"Blues\",vmax = 6000,fmt=\"d\")"
   ]
  },
  {
   "cell_type": "code",
   "execution_count": 480,
   "id": "3996c881",
   "metadata": {},
   "outputs": [
    {
     "name": "stdout",
     "output_type": "stream",
     "text": [
      "\n",
      "Classification Report:\n",
      "              precision    recall  f1-score   support\n",
      "\n",
      "           0       0.70      0.48      0.57      2183\n",
      "           1       0.85      0.94      0.89      6862\n",
      "\n",
      "    accuracy                           0.83      9045\n",
      "   macro avg       0.78      0.71      0.73      9045\n",
      "weighted avg       0.81      0.83      0.81      9045\n",
      "\n"
     ]
    }
   ],
   "source": [
    "# Classification report and precision/recall\n",
    "print(\"\\nClassification Report:\")\n",
    "print(classification_report(y_test, y_pred))"
   ]
  },
  {
   "cell_type": "markdown",
   "id": "56d992a1",
   "metadata": {},
   "source": [
    "* It is obvious that the best model demonstrates improved precision for both classes. The precision of 0.70 for Class 0 indicates a satisfactory level of accuracy in predicting samples belonging to this class. On the other hand, the precision of 0.85 for Class 1 signifies a high level of accuracy in predicting samples from this class.\n",
    "\n",
    "* For recall, the model performs relatively better for Class 1 as of 0.94. This indicates that a significant portion of actual samples belonging to Class 1 are correctly identified by the model. However, recall for Class 0 is lower at 0.48 so it needs for improvement in accurately identifying samples from this class."
   ]
  }
 ],
 "metadata": {
  "kernelspec": {
   "display_name": "Python 3 (ipykernel)",
   "language": "python",
   "name": "python3"
  },
  "language_info": {
   "codemirror_mode": {
    "name": "ipython",
    "version": 3
   },
   "file_extension": ".py",
   "mimetype": "text/x-python",
   "name": "python",
   "nbconvert_exporter": "python",
   "pygments_lexer": "ipython3",
   "version": "3.10.11"
  }
 },
 "nbformat": 4,
 "nbformat_minor": 5
}
